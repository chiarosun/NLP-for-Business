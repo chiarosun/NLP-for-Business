{
 "cells": [
  {
   "cell_type": "markdown",
   "metadata": {
    "id": "R7b0ziVVABCR"
   },
   "source": [
    "### Project Gutenberg:  Topic Modelling Using Unsupervised NLP\n",
    "\n",
    "https://www.gutenberg.org/\n",
    "\n",
    "Assignment 2: Devika Pace"
   ]
  },
  {
   "cell_type": "markdown",
   "metadata": {
    "id": "lSvl4Do7__sq"
   },
   "source": [
    "[Import Libaries](#0)\n",
    "\n",
    "  [Select and load book(s) from Project Gutenberg](#1)\n",
    "  - Alice In Wonderland\n",
    "  - Grimm's Fairy Tales\n",
    "  - Walden \n",
    "\n",
    "[Pre-process Text](#2)\n",
    "- Clean\n",
    "- Tokenize\n",
    "- Stop Word Removal\n",
    "- Stemming and Lemmatization\n",
    "\n",
    "[Vectorization](#3)\n",
    "- Count Vectorizer\n",
    "- Tf-idf Vectorizer\n",
    "- Sparsity\n",
    "\n",
    "[Topic Model with Unsupervised Clustering Algorithm](#4)\n",
    "- LDA\n",
    "- NNMF\n",
    "- LSI\n",
    "\n",
    "[Metrics & Results](#5)\n",
    "- Tuning\n",
    "- Visualization\n",
    "- Performance\n"
   ]
  },
  {
   "cell_type": "markdown",
   "metadata": {
    "id": "vKDO2hJX4T0O"
   },
   "source": [
    "<a name=\"0\"></a>\n",
    "### **Import Libraries**"
   ]
  },
  {
   "cell_type": "code",
   "execution_count": 3,
   "metadata": {
    "id": "dHwRRqcFpRFc"
   },
   "outputs": [],
   "source": [
    "import os\n",
    "from urllib.request import urlopen\n",
    "from warnings import simplefilter\n",
    "simplefilter('ignore')\n",
    "\n",
    "import numpy as np\n",
    "import pandas as pd\n",
    "import re, nltk, spacy, gensim\n",
    "\n",
    "from sklearn.feature_extraction.text import CountVectorizer\n",
    "from sklearn.feature_extraction.text import TfidfVectorizer  \n",
    "               \n",
    "from sklearn.decomposition import LatentDirichletAllocation, NMF, TruncatedSVD\n",
    "from sklearn.feature_extraction.text import CountVectorizer, TfidfVectorizer\n",
    "from sklearn.model_selection import GridSearchCV, RandomizedSearchCV\n",
    "from scipy.stats import uniform, truncnorm, randint\n",
    "from pprint import pprint\n",
    "\n",
    "import pyLDAvis\n",
    "import pyLDAvis.sklearn\n",
    "import matplotlib.pyplot as plt\n",
    "%matplotlib inline"
   ]
  },
  {
   "cell_type": "markdown",
   "metadata": {
    "id": "sTGkSUly34wV"
   },
   "source": [
    "<a name=\"1\"></a>\n",
    "### **Project Gutenberg**\n",
    "\n",
    "We will download a few different texts for comparison's sake."
   ]
  },
  {
   "cell_type": "code",
   "execution_count": 4,
   "metadata": {
    "id": "p1LHtrItrKuD"
   },
   "outputs": [],
   "source": [
    "url_alice = \"https://gutenberg.org/files/11/11-0.txt\"      # Alice in Wonderland\n",
    "url_grimm = \"https://gutenberg.org/files/2591/2591-0.txt\"  # Grimm's Fairy Tales\n",
    "url_walden = \"https://gutenberg.org/files/205/205-0.txt\"   # Walden\n",
    "\n",
    "def get_gutenberg_text(url):\n",
    "\n",
    "  with urlopen(url) as response:\n",
    "    html_content = response.read()\n",
    "  encoding = response.headers.get_content_charset('utf-8')\n",
    "  text = html_content.decode(encoding)\n",
    "  return text"
   ]
  },
  {
   "cell_type": "markdown",
   "metadata": {
    "id": "KqjmdLJB3BtZ"
   },
   "source": [
    "**Alice in Wonderland**"
   ]
  },
  {
   "cell_type": "code",
   "execution_count": 5,
   "metadata": {
    "colab": {
     "base_uri": "https://localhost:8080/"
    },
    "id": "RQELxVeg0zZD",
    "outputId": "91705f17-38df-4d73-b106-181022e10ca3"
   },
   "outputs": [],
   "source": [
    "%%capture\n",
    "text = get_gutenberg_text(url_alice)\n",
    "print(f'length of text response: {len(text)}, length of split: {len(text.split(\"***\"))}\\n')\n",
    "text.split('***')"
   ]
  },
  {
   "cell_type": "code",
   "execution_count": 6,
   "metadata": {
    "colab": {
     "base_uri": "https://localhost:8080/"
    },
    "id": "28lFD6hG074c",
    "outputId": "0a803985-ef8b-4169-d8e7-d5900d5b7576"
   },
   "outputs": [
    {
     "name": "stdout",
     "output_type": "stream",
     "text": [
      "LENGTH OF ALIC TEXT: 147994\n",
      "\n",
      "************************START OF ALICE TEXT*****************************:\r\n",
      "\r\n",
      "[Illustration]\r\n",
      "\r\n",
      "\r\n",
      "\r\n",
      "\r\n",
      "Alice’s Adventures in Wonderland\r\n",
      "\r\n",
      "by Lewis Carroll\r\n",
      "\r\n",
      "THE MILLENNIUM FULCRUM EDITION 3.0\r\n",
      "\r\n",
      "Contents\r\n",
      "\r\n",
      " CHAPTER I.     Down the Rabbit-Hole\r\n",
      " CHAPTER II.    The Pool of Tears\r\n",
      " CHAPTER III.   A Caucus-Race and a Long Tale\r\n",
      " CHAPTER IV.    The Rabbit Sends in a Little Bill\r\n",
      " CHAPTER V.     Advice from a Caterpillar\r\n",
      " CHAPTER VI.    Pig and Pepper\r\n",
      " CHAPTER VII.   A Mad Tea-Party\r\n",
      " CHAPTER VIII.  The Queen’s Croquet-Ground\r\n",
      " CHAPTER IX.    The Mock Turtle’s Story\r\n",
      " CHAPTER X.     The Lobster Quadrille\r\n",
      " CHAPTER XI.    Who Stole the Tarts?\r\n",
      " CHAPTER XII.   Alice’s Evidence\r\n",
      "\r\n",
      "\r\n",
      "\r\n",
      "\r\n",
      "CHAPTER I.\r\n",
      "Down the Rabbit-Hole\r\n",
      "\r\n",
      "\r\n",
      "Alice was beginning to get very tired of sitting by her sister on the\r\n",
      "bank, and of having nothing to do: once or twice she had peeped into\r\n",
      "the book her sister was reading, but it had no pictures or\r\n",
      "conversations in it, “and what is the use of a book,” thought Alice\r\n",
      "“without pictures or conversations?”\r\n",
      "\r\n",
      "So she was considering in her own mind (as well as she could, for the\r\n",
      "hot day made her feel very sleepy and stupid), whether the pleasure of\r\n",
      "making a daisy-chain would be worth the trouble of getting up and\r\n",
      "picking the daisies, when suddenly a White Rabbit with pink eyes ran\r\n",
      "close by her.\r\n",
      "\r\n",
      "There was nothing so _very_ remarkable in that; nor did Alice think it\r\n",
      "so _very_ much out of the way to hear the Rabbit say to itself, “Oh\r\n",
      "dear! Oh dear! I shall be late!” (when she thought it over afterwards,\r\n",
      "it occurred to her that she ought to have wondered at this, but at the\r\n",
      "time it all seemed quite natural); but when the Rabbit actually _took a\r\n",
      "watch out of its waistcoat-pocket_, and looked at it, and then hurried\r\n",
      "on, Alice started to her feet, for it flashed across her mind that she\r\n",
      "had never before seen a rabbit with either a waistcoat-pocket, or a\r\n",
      "watch to take out of it, and burning with curiosity, she ran across the\r\n",
      "field after it, and fortunately was just in time to see it pop down a\r\n",
      "large rabbit-hole under the hedge.\r\n",
      "\r\n",
      "In another moment down went Alice after it, never once considering how\r\n",
      "in the world she was to get out again.\r\n",
      "\r\n",
      "The rabbit-hole went straight on like a tunnel for some way, and then\r\n",
      "dipped suddenly down, so suddenly that Alice had not a moment to think\r\n",
      "about stopping herself before she found herself falling down a very\r\n",
      "deep well.\r\n",
      "\r\n",
      "Either the well was very deep, or she fell very slowly, for she had\r\n",
      "plenty of time as she went down to look about her and to wonder what\r\n",
      "was going to happen next. First, she tried to look down and make out\r\n",
      "what she was coming to, but it was too dark to see anything; then she\r\n",
      "looked at the sides of the well, and noticed that they were filled with\r\n",
      "cupboards and book-shelves; here and there she saw maps and pictures\r\n",
      "hung upon pegs. She took down a jar from one of the shelves as she\r\n",
      "passed; it was labelled “ORANGE MARMALADE”, but to her great\r\n",
      "disappointment it was empty: she did not like to drop the jar for fear\r\n",
      "of killing somebody \n",
      "\n",
      "**************************END OF ALICE TEXT*****************************:\n",
      "\n",
      "to the waving of the reeds—the rattling\r\n",
      "teacups would change to tinkling sheep-bells, and the Queen’s shrill\r\n",
      "cries to the voice of the shepherd boy—and the sneeze of the baby, the\r\n",
      "shriek of the Gryphon, and all the other queer noises, would change\r\n",
      "(she knew) to the confused clamour of the busy farm-yard—while the\r\n",
      "lowing of the cattle in the distance would take the place of the Mock\r\n",
      "Turtle’s heavy sobs.\r\n",
      "\r\n",
      "Lastly, she pictured to herself how this same little sister of hers\r\n",
      "would, in the after-time, be herself a grown woman; and how she would\r\n",
      "keep, through all her riper years, the simple and loving heart of her\r\n",
      "childhood: and how she would gather about her other little children,\r\n",
      "and make _their_ eyes bright and eager with many a strange tale,\r\n",
      "perhaps even with the dream of Wonderland of long ago: and how she\r\n",
      "would feel with all their simple sorrows, and find a pleasure in all\r\n",
      "their simple joys, remembering her own child-life, and the happy summer\r\n",
      "days.\r\n",
      "\r\n",
      "THE END \r\n",
      "\r\n",
      "\r\n",
      "\r\n",
      "\r\n",
      "\n"
     ]
    }
   ],
   "source": [
    "alice = text.split('***')[2]\n",
    "print(f'LENGTH OF ALIC TEXT: {len(alice)}')\n",
    "print(f'\\n************************START OF ALICE TEXT*****************************:{alice[0:3000]}')\n",
    "print(f'\\n**************************END OF ALICE TEXT*****************************:\\n\\n{alice[-1000:]}')"
   ]
  },
  {
   "cell_type": "markdown",
   "metadata": {
    "id": "ybLpHxXn3Ocv"
   },
   "source": [
    "**Grimm's Fairy Tales**"
   ]
  },
  {
   "cell_type": "code",
   "execution_count": 7,
   "metadata": {
    "colab": {
     "base_uri": "https://localhost:8080/"
    },
    "id": "Dxlvo6_ysVR0",
    "outputId": "fc25dcf6-f96d-461b-9b6f-6d083636894e"
   },
   "outputs": [],
   "source": [
    "%%capture\n",
    "text = get_gutenberg_text(url_grimm)\n",
    "print(f'length of text response: {len(text)}, length of split: {len(text.split(\"***\"))}\\n')\n",
    "text.split('***')"
   ]
  },
  {
   "cell_type": "code",
   "execution_count": 8,
   "metadata": {
    "colab": {
     "base_uri": "https://localhost:8080/"
    },
    "id": "gnkZuAW1sia3",
    "outputId": "563b5461-a69a-4cfd-d178-d4bba1fded57"
   },
   "outputs": [
    {
     "name": "stdout",
     "output_type": "stream",
     "text": [
      "LENGTH OF GRIMM TEXT: 528873\n",
      "\n",
      "************************START OF GRIMM TEXT*****************************:\r\n",
      "\r\n",
      "\r\n",
      "\r\n",
      "\r\n",
      "Grimms’ Fairy Tales\r\n",
      "\r\n",
      "By Jacob Grimm and Wilhelm Grimm\r\n",
      "\r\n",
      "\r\n",
      "\r\n",
      "PREPARER’S NOTE\r\n",
      "\r\n",
      "     The text is based on translations from\r\n",
      "     the Grimms’ Kinder und Hausmärchen by\r\n",
      "     Edgar Taylor and Marian Edwardes.\r\n",
      "\r\n",
      "\r\n",
      "\r\n",
      "\r\n",
      "CONTENTS:\r\n",
      "\r\n",
      "     THE GOLDEN BIRD\r\n",
      "     HANS IN LUCK\r\n",
      "     JORINDA AND JORINDEL\r\n",
      "     THE TRAVELLING MUSICIANS\r\n",
      "     OLD SULTAN\r\n",
      "     THE STRAW, THE COAL, AND THE BEAN\r\n",
      "     BRIAR ROSE\r\n",
      "     THE DOG AND THE SPARROW\r\n",
      "     THE TWELVE DANCING PRINCESSES\r\n",
      "     THE FISHERMAN AND HIS WIFE\r\n",
      "     THE WILLOW-WREN AND THE BEAR\r\n",
      "     THE FROG-PRINCE\r\n",
      "     CAT AND MOUSE IN PARTNERSHIP\r\n",
      "     THE GOOSE-GIRL\r\n",
      "     THE ADVENTURES OF CHANTICLEER AND PARTLET\r\n",
      "       1. HOW THEY WENT TO THE MOUNTAINS TO EAT NUTS\r\n",
      "       2. HOW CHANTICLEER AND PARTLET WENT TO VISIT MR KORBES\r\n",
      "     RAPUNZEL\r\n",
      "     FUNDEVOGEL\r\n",
      "     THE VALIANT LITTLE TAILOR\r\n",
      "     HANSEL AND GRETEL\r\n",
      "     THE MOUSE, THE BIRD, AND THE SAUSAGE\r\n",
      "     MOTHER HOLLE\r\n",
      "     LITTLE RED-CAP [LITTLE RED RIDING HOOD]\r\n",
      "     THE ROBBER BRIDEGROOM\r\n",
      "     TOM THUMB\r\n",
      "     RUMPELSTILTSKIN\r\n",
      "     CLEVER GRETEL\r\n",
      "     THE OLD MAN AND HIS GRANDSON\r\n",
      "     THE LITTLE PEASANT\r\n",
      "     FREDERICK AND CATHERINE\r\n",
      "     SWEETHEART ROLAND\r\n",
      "     SNOWDROP\r\n",
      "     THE PINK\r\n",
      "     CLEVER ELSIE\r\n",
      "     THE MISER IN THE BUSH\r\n",
      "     ASHPUTTEL\r\n",
      "     THE WHITE SNAKE\r\n",
      "     THE WOLF AND THE SEVEN LITTLE KIDS\r\n",
      "     THE QUEEN BEE\r\n",
      "     THE ELVES AND THE SHOEMAKER\r\n",
      "     THE JUNIPER-TREE\r\n",
      "     the juniper-tree.\r\n",
      "     THE TURNIP\r\n",
      "     CLEVER HANS\r\n",
      "     THE THREE LANGUAGES\r\n",
      "     THE FOX AND THE CAT\r\n",
      "     THE FOUR CLEVER BROTHERS\r\n",
      "     LILY AND THE LION\r\n",
      "     THE FOX AND THE HORSE\r\n",
      "     THE BLUE LIGHT\r\n",
      "     THE RAVEN\r\n",
      "     THE GOLDEN GOOSE\r\n",
      "     THE WATER OF LIFE\r\n",
      "     THE TWELVE HUNTSMEN\r\n",
      "     THE KING OF THE GOLDEN MOUNTAIN\r\n",
      "     DOCTOR KNOWALL\r\n",
      "     THE SEVEN RAVENS\r\n",
      "     THE WEDDING OF MRS FOX\r\n",
      "     FIRST STORY\r\n",
      "     SECOND STORY\r\n",
      "     THE SALAD\r\n",
      "     THE STORY OF THE YOUTH WHO WENT FORTH TO LEARN WHAT FEAR WAS\r\n",
      "     KING GRISLY-BEARD\r\n",
      "     IRON HANS\r\n",
      "     CAT-SKIN\r\n",
      "     SNOW-WHITE AND ROSE-RED\r\n",
      "\r\n",
      "\r\n",
      "\r\n",
      "\r\n",
      "THE BROTHERS GRIMM FAIRY TALES\r\n",
      "\r\n",
      "\r\n",
      "\r\n",
      "\r\n",
      "THE GOLDEN BIRD\r\n",
      "\r\n",
      "\r\n",
      "A certain king had a beautiful garden, and in the garden stood a tree\r\n",
      "which bore golden apples. These apples were always counted, and about\r\n",
      "the time when they began to grow ripe it was found that every night one\r\n",
      "of them was gone. The king became very angry at this, and ordered the\r\n",
      "gardener to keep watch all night under the tree. The gardener set his\r\n",
      "eldest son to watch; but about twelve o’clock he fell asleep, and in\r\n",
      "the morning another of the apples was missing. Then the second son was\r\n",
      "ordered to watch; and at midnight he too fell asleep, and in the morning\r\n",
      "another apple was gone. Then the third son offered to keep watch; but\r\n",
      "the gardener at first would not let him, for fear some harm should come\r\n",
      "to him: however, at last he consented, and the young man laid himself\r\n",
      "under the tree to watch. As the clock struck twelve he heard a rustling\r\n",
      "noise in the air, and a bird \n",
      "\n",
      "*******************END OF GRIMM TEXT (SNOW WHITE)***********************:\n",
      "\n",
      "rds, but gave the wicked creature a single\r\n",
      "blow with his paw, and he did not move again.\r\n",
      "\r\n",
      "The girls had run away, but the bear called to them: ‘Snow-white and\r\n",
      "Rose-red, do not be afraid; wait, I will come with you.’ Then they\r\n",
      "recognized his voice and waited, and when he came up to them suddenly\r\n",
      "his bearskin fell off, and he stood there a handsome man, clothed all in\r\n",
      "gold. ‘I am a king’s son,’ he said, ‘and I was bewitched by that wicked\r\n",
      "dwarf, who had stolen my treasures; I have had to run about the forest\r\n",
      "as a savage bear until I was freed by his death. Now he has got his\r\n",
      "well-deserved punishment.\r\n",
      "\r\n",
      "Snow-white was married to him, and Rose-red to his brother, and they\r\n",
      "divided between them the great treasure which the dwarf had gathered\r\n",
      "together in his cave. The old mother lived peacefully and happily with\r\n",
      "her children for many years. She took the two rose-trees with her, and\r\n",
      "they stood before her window, and every year bore the most beautiful\r\n",
      "roses, white and red.\r\n",
      "\r\n",
      "\r\n",
      "\n",
      "******************************ABOUT*************************************:\n",
      "**\r\n",
      "\r\n",
      "\r\n",
      "The Brothers Grimm, Jacob (1785-1863) and Wilhelm (1786-1859), were born\r\n",
      "in Hanau, near Frankfurt, in the German state of Hesse. Throughout\r\n",
      "their lives they remained close friends, and both studied law at Marburg\r\n",
      "University. Jacob was a pioneer in the study of German philology,\r\n",
      "and although Wilhelm’s work was hampered by poor health the brothers\r\n",
      "collaborated in the creation of a German dictionary, not completed until\r\n",
      "a century after their deaths. But they were best (and universally) known\r\n",
      "for the collection of over two hundred folk tales they made from oral\r\n",
      "sources and published in two volumes of ‘Nursery and Household Tales’ in\r\n",
      "1812 and 1814. Although their intention was to preserve such material as\r\n",
      "part of German cultural and literary history, and their collection was\r\n",
      "first published with scholarly notes and no illustration, the tales soon\r\n",
      "came into the possession of young readers. This was in part due to Edgar\r\n",
      "Taylor, who made the first English translation in 1823, selecting about\r\n",
      "fifty stories ‘with the amusement of some young friends principally in\r\n",
      "view.’ They have been an essential ingredient of children’s reading ever\r\n",
      "since.\r\n",
      "\r\n",
      "\r\n",
      "\r\n",
      "\r\n",
      "\n"
     ]
    }
   ],
   "source": [
    "grimm = text.split('***')[2]\n",
    "grimm_about = text.split('***')[3]\n",
    "print(f'LENGTH OF GRIMM TEXT: {len(grimm)}')\n",
    "print(f'\\n************************START OF GRIMM TEXT*****************************:{grimm[0:3000]}')\n",
    "print(f'\\n*******************END OF GRIMM TEXT (SNOW WHITE)***********************:\\n\\n{grimm[-1000:]}')\n",
    "print(f'******************************ABOUT*************************************:\\n{grimm_about}')"
   ]
  },
  {
   "cell_type": "markdown",
   "metadata": {
    "id": "clzLK6dr6ssE"
   },
   "source": [
    "**Walden**\n"
   ]
  },
  {
   "cell_type": "code",
   "execution_count": 9,
   "metadata": {
    "colab": {
     "base_uri": "https://localhost:8080/"
    },
    "id": "WNuRAdEF6txG",
    "outputId": "53dee313-991a-4fd4-a672-f40bf428a397"
   },
   "outputs": [],
   "source": [
    "%%capture\n",
    "text = get_gutenberg_text(url_walden)\n",
    "print(f'length of text response: {len(text)}, length of split: {len(text.split(\"***\"))}\\n')\n",
    "text.split('***')"
   ]
  },
  {
   "cell_type": "code",
   "execution_count": 10,
   "metadata": {
    "colab": {
     "base_uri": "https://localhost:8080/"
    },
    "id": "Q9zAi-lg6467",
    "outputId": "b8f44914-4d81-4f18-ba74-c956258101b5"
   },
   "outputs": [
    {
     "name": "stdout",
     "output_type": "stream",
     "text": [
      "LENGTH OF ALIC TEXT: 147994\n",
      "\n",
      "************************START OF THOREAU TEXT*****************************:\r\n",
      "\r\n",
      "\r\n",
      "\r\n",
      "\r\n",
      "WALDEN\r\n",
      "\r\n",
      "\r\n",
      "\r\n",
      "\r\n",
      "and\r\n",
      "\r\n",
      "\r\n",
      "\r\n",
      "ON THE DUTY OF CIVIL DISOBEDIENCE\r\n",
      "\r\n",
      "\r\n",
      "\r\n",
      "by Henry David Thoreau\r\n",
      "\r\n",
      "\r\n",
      "cover\r\n",
      "\r\n",
      "\r\n",
      "Contents\r\n",
      "\r\n",
      "\r\n",
      " WALDEN\r\n",
      "\r\n",
      " Economy\r\n",
      " Where I Lived, and What I Lived For\r\n",
      " Reading\r\n",
      " Sounds\r\n",
      " Solitude\r\n",
      " Visitors\r\n",
      " The Bean-Field\r\n",
      " The Village\r\n",
      " The Ponds\r\n",
      " Baker Farm\r\n",
      " Higher Laws\r\n",
      " Brute Neighbors\r\n",
      " House-Warming\r\n",
      " Former Inhabitants and Winter Visitors\r\n",
      " Winter Animals\r\n",
      " The Pond in Winter\r\n",
      " Spring\r\n",
      " Conclusion\r\n",
      "\r\n",
      " ON THE DUTY OF CIVIL DISOBEDIENCE\r\n",
      "\r\n",
      "\r\n",
      "\r\n",
      "WALDEN\r\n",
      "\r\n",
      "Economy\r\n",
      "\r\n",
      "When I wrote the following pages, or rather the bulk of them, I lived\r\n",
      "alone, in the woods, a mile from any neighbor, in a house which I had\r\n",
      "built myself, on the shore of Walden Pond, in Concord, Massachusetts,\r\n",
      "and earned my living by the labor of my hands only. I lived there two\r\n",
      "years and two months. At present I am a sojourner in civilized life\r\n",
      "again.\r\n",
      "\r\n",
      "I should not obtrude my affairs so much on the notice of my readers if\r\n",
      "very particular inquiries had not been made by my townsmen concerning\r\n",
      "my mode of life, which some would call impertinent, though they do not\r\n",
      "appear to me at all impertinent, but, considering the circumstances,\r\n",
      "very natural and pertinent. Some have asked what I got to eat; if I did\r\n",
      "not feel lonesome; if I was not afraid; and the like. Others have been\r\n",
      "curious to learn what portion of my income I devoted to charitable\r\n",
      "purposes; and some, who have large families, how many poor children I\r\n",
      "maintained. I will therefore ask those of my readers who feel no\r\n",
      "particular interest in me to pardon me if I undertake to answer some of\r\n",
      "these questions in this book. In most books, the _I_, or first person,\r\n",
      "is omitted; in this it will be retained; that, in respect to egotism,\r\n",
      "is the main difference. We commonly do not remember that it is, after\r\n",
      "all, always the first person that is speaking. I should not talk so\r\n",
      "much about myself if there were anybody else whom I knew as well.\r\n",
      "Unfortunately, I am confined to this theme by the narrowness of my\r\n",
      "experience. Moreover, I, on my side, require of every writer, first or\r\n",
      "last, a simple and sincere account of his own life, and not merely what\r\n",
      "he has heard of other men’s lives; some such account as he would send\r\n",
      "to his kindred from a distant land; for if he has lived sincerely, it\r\n",
      "must have been in a distant land to me. Perhaps these pages are more\r\n",
      "particularly addressed to poor students. As for the rest of my readers,\r\n",
      "they will accept such portions as apply to them. I trust that none will\r\n",
      "stretch\n",
      "\n",
      "**************************END OF THOREAU TEXT*****************************:\n",
      "\n",
      "s of the empire. Is\r\n",
      "a democracy, such as we know it, the last improvement possible in\r\n",
      "government? Is it not possible to take a step further towards\r\n",
      "recognizing and organizing the rights of man? There will never be a\r\n",
      "really free and enlightened State, until the State comes to recognize\r\n",
      "the individual as a higher and independent power, from which all its\r\n",
      "own power and authority are derived, and treats him accordingly. I\r\n",
      "please myself with imagining a State at last which can afford to be\r\n",
      "just to all men, and to treat the individual with respect as a\r\n",
      "neighbor; which even would not think it inconsistent with its own\r\n",
      "repose, if a few were to live aloof from it, not meddling with it, nor\r\n",
      "embraced by it, who fulfilled all the duties of neighbors and\r\n",
      "fellow-men. A State which bore this kind of fruit, and suffered it to\r\n",
      "drop off as fast as it ripened, would prepare the way for a still more\r\n",
      "perfect and glorious State, which also I have imagined, but not yet\r\n",
      "anywhere seen.\r\n",
      "\r\n",
      "\r\n",
      "\r\n",
      "\r\n",
      "\n"
     ]
    }
   ],
   "source": [
    "walden = text.split('***')[2]\n",
    "print(f'LENGTH OF ALIC TEXT: {len(alice)}')\n",
    "print(f'\\n************************START OF THOREAU TEXT*****************************:{walden[0:2500]}')\n",
    "print(f'\\n**************************END OF THOREAU TEXT*****************************:\\n\\n{walden[-1000:]}')"
   ]
  },
  {
   "cell_type": "markdown",
   "metadata": {
    "id": "bksk8vSd8qGU"
   },
   "source": [
    "<a name=\"2\"></a>\n",
    "### **Pre-process Text**"
   ]
  },
  {
   "cell_type": "code",
   "execution_count": 11,
   "metadata": {
    "colab": {
     "base_uri": "https://localhost:8080/"
    },
    "id": "TcNVuD8A8z0s",
    "outputId": "f8be671f-fc7a-47a6-ec93-4f758286df67",
    "scrolled": true
   },
   "outputs": [
    {
     "name": "stdout",
     "output_type": "stream",
     "text": [
      "stop words:\n",
      " ['i', 'me', 'my', 'myself', 'we', 'our', 'ours', 'ourselves', 'you', \"you're\", \"you've\", \"you'll\", \"you'd\", 'your', 'yours', 'yourself', 'yourselves', 'he', 'him', 'his', 'himself', 'she', \"she's\", 'her', 'hers', 'herself', 'it', \"it's\", 'its', 'itself', 'they', 'them', 'their', 'theirs', 'themselves', 'what', 'which', 'who', 'whom', 'this', 'that', \"that'll\", 'these', 'those', 'am', 'is', 'are', 'was', 'were', 'be', 'been', 'being', 'have', 'has', 'had', 'having', 'do', 'does', 'did', 'doing', 'a', 'an', 'the', 'and', 'but', 'if', 'or', 'because', 'as', 'until', 'while', 'of', 'at', 'by', 'for', 'with', 'about', 'against', 'between', 'into', 'through', 'during', 'before', 'after', 'above', 'below', 'to', 'from', 'up', 'down', 'in', 'out', 'on', 'off', 'over', 'under', 'again', 'further', 'then', 'once', 'here', 'there', 'when', 'where', 'why', 'how', 'all', 'any', 'both', 'each', 'few', 'more', 'most', 'other', 'some', 'such', 'no', 'nor', 'not', 'only', 'own', 'same', 'so', 'than', 'too', 'very', 's', 't', 'can', 'will', 'just', 'don', \"don't\", 'should', \"should've\", 'now', 'd', 'll', 'm', 'o', 're', 've', 'y', 'ain', 'aren', \"aren't\", 'couldn', \"couldn't\", 'didn', \"didn't\", 'doesn', \"doesn't\", 'hadn', \"hadn't\", 'hasn', \"hasn't\", 'haven', \"haven't\", 'isn', \"isn't\", 'ma', 'mightn', \"mightn't\", 'mustn', \"mustn't\", 'needn', \"needn't\", 'shan', \"shan't\", 'shouldn', \"shouldn't\", 'wasn', \"wasn't\", 'weren', \"weren't\", 'won', \"won't\", 'wouldn', \"wouldn't\"] \n",
      "\n"
     ]
    }
   ],
   "source": [
    "import re\n",
    "import nltk\n",
    "from nltk.tokenize import word_tokenize\n",
    "from nltk.corpus import stopwords\n",
    "from nltk.stem.porter import PorterStemmer\n",
    "from nltk.stem.wordnet import WordNetLemmatizer\n",
    "\n",
    "def preprocess_text(text):\n",
    "\n",
    "  n = 25\n",
    "  # clean text (to lowercase, remove punctuation)\n",
    "  text = re.sub(r\"[^a-zA-Z0-9]\", \" \", text.lower())\n",
    "\n",
    "  # tokenize text\n",
    "  words = word_tokenize(text)\n",
    "  print('tokenized:\\n', words[:n])\n",
    "\n",
    "  # remove stopwords\n",
    "  words = [w for w in words if w not in stopwords.words('english')]\n",
    "  #print('stop words:\\n', stopwords.words('english'), '\\n')\n",
    "  print('no stop words:\\n', words[:n])\n",
    "\n",
    "  # Lemmatize verbs by specifying pos\n",
    "  lemmed = [WordNetLemmatizer().lemmatize(w, pos='v') for w in words]\n",
    "  print('lemmed with pos:\\n', lemmed[:n])\n",
    "\n",
    "  # stemming - remove prefix, suff\n",
    "  stemmed = [PorterStemmer().stem(w) for w in lemmed]\n",
    "  print('stemmed:\\n', stemmed[:n])\n",
    "\n",
    "  return stemmed\n",
    "\n",
    "print('stop words:\\n', stopwords.words('english'), '\\n')"
   ]
  },
  {
   "cell_type": "code",
   "execution_count": 12,
   "metadata": {
    "colab": {
     "base_uri": "https://localhost:8080/"
    },
    "id": "Vr2Qul3hIL87",
    "outputId": "fc085001-6ff1-44e6-f230-4f7f22596ac7"
   },
   "outputs": [
    {
     "name": "stdout",
     "output_type": "stream",
     "text": [
      "tokenized:\n",
      " ['illustration', 'alice', 's', 'adventures', 'in', 'wonderland', 'by', 'lewis', 'carroll', 'the', 'millennium', 'fulcrum', 'edition', '3', '0', 'contents', 'chapter', 'i', 'down', 'the', 'rabbit', 'hole', 'chapter', 'ii', 'the']\n",
      "no stop words:\n",
      " ['illustration', 'alice', 'adventures', 'wonderland', 'lewis', 'carroll', 'millennium', 'fulcrum', 'edition', '3', '0', 'contents', 'chapter', 'rabbit', 'hole', 'chapter', 'ii', 'pool', 'tears', 'chapter', 'iii', 'caucus', 'race', 'long', 'tale']\n",
      "lemmed with pos:\n",
      " ['illustration', 'alice', 'adventure', 'wonderland', 'lewis', 'carroll', 'millennium', 'fulcrum', 'edition', '3', '0', 'content', 'chapter', 'rabbit', 'hole', 'chapter', 'ii', 'pool', 'tear', 'chapter', 'iii', 'caucus', 'race', 'long', 'tale']\n",
      "stemmed:\n",
      " ['illustr', 'alic', 'adventur', 'wonderland', 'lewi', 'carrol', 'millennium', 'fulcrum', 'edit', '3', '0', 'content', 'chapter', 'rabbit', 'hole', 'chapter', 'ii', 'pool', 'tear', 'chapter', 'iii', 'caucu', 'race', 'long', 'tale']\n"
     ]
    }
   ],
   "source": [
    "post_alice = preprocess_text(alice)"
   ]
  },
  {
   "cell_type": "code",
   "execution_count": 13,
   "metadata": {
    "colab": {
     "base_uri": "https://localhost:8080/"
    },
    "id": "IOzAX0TLI8WX",
    "outputId": "906d6d1d-a117-4548-d8b3-b6d7539c710a"
   },
   "outputs": [
    {
     "name": "stdout",
     "output_type": "stream",
     "text": [
      "tokenized:\n",
      " ['grimms', 'fairy', 'tales', 'by', 'jacob', 'grimm', 'and', 'wilhelm', 'grimm', 'preparer', 's', 'note', 'the', 'text', 'is', 'based', 'on', 'translations', 'from', 'the', 'grimms', 'kinder', 'und', 'hausm', 'rchen']\n",
      "no stop words:\n",
      " ['grimms', 'fairy', 'tales', 'jacob', 'grimm', 'wilhelm', 'grimm', 'preparer', 'note', 'text', 'based', 'translations', 'grimms', 'kinder', 'und', 'hausm', 'rchen', 'edgar', 'taylor', 'marian', 'edwardes', 'contents', 'golden', 'bird', 'hans']\n",
      "lemmed with pos:\n",
      " ['grimms', 'fairy', 'tales', 'jacob', 'grimm', 'wilhelm', 'grimm', 'preparer', 'note', 'text', 'base', 'translations', 'grimms', 'kinder', 'und', 'hausm', 'rchen', 'edgar', 'taylor', 'marian', 'edwardes', 'content', 'golden', 'bird', 'hans']\n",
      "stemmed:\n",
      " ['grimm', 'fairi', 'tale', 'jacob', 'grimm', 'wilhelm', 'grimm', 'prepar', 'note', 'text', 'base', 'translat', 'grimm', 'kinder', 'und', 'hausm', 'rchen', 'edgar', 'taylor', 'marian', 'edward', 'content', 'golden', 'bird', 'han']\n"
     ]
    }
   ],
   "source": [
    "post_grimm = preprocess_text(grimm)"
   ]
  },
  {
   "cell_type": "code",
   "execution_count": 14,
   "metadata": {
    "colab": {
     "base_uri": "https://localhost:8080/"
    },
    "id": "TQh053deJE9k",
    "outputId": "feaebb35-c6b2-416a-c7ff-a0cf528e478d"
   },
   "outputs": [
    {
     "name": "stdout",
     "output_type": "stream",
     "text": [
      "tokenized:\n",
      " ['walden', 'and', 'on', 'the', 'duty', 'of', 'civil', 'disobedience', 'by', 'henry', 'david', 'thoreau', 'cover', 'contents', 'walden', 'economy', 'where', 'i', 'lived', 'and', 'what', 'i', 'lived', 'for', 'reading']\n",
      "no stop words:\n",
      " ['walden', 'duty', 'civil', 'disobedience', 'henry', 'david', 'thoreau', 'cover', 'contents', 'walden', 'economy', 'lived', 'lived', 'reading', 'sounds', 'solitude', 'visitors', 'bean', 'field', 'village', 'ponds', 'baker', 'farm', 'higher', 'laws']\n",
      "lemmed with pos:\n",
      " ['walden', 'duty', 'civil', 'disobedience', 'henry', 'david', 'thoreau', 'cover', 'content', 'walden', 'economy', 'live', 'live', 'read', 'sound', 'solitude', 'visitors', 'bean', 'field', 'village', 'ponds', 'baker', 'farm', 'higher', 'laws']\n",
      "stemmed:\n",
      " ['walden', 'duti', 'civil', 'disobedi', 'henri', 'david', 'thoreau', 'cover', 'content', 'walden', 'economi', 'live', 'live', 'read', 'sound', 'solitud', 'visitor', 'bean', 'field', 'villag', 'pond', 'baker', 'farm', 'higher', 'law']\n"
     ]
    }
   ],
   "source": [
    "post_walden = preprocess_text(walden)"
   ]
  },
  {
   "cell_type": "markdown",
   "metadata": {
    "id": "NZnjUCzlJSUJ"
   },
   "source": [
    "<a name=\"3\"></a>\n",
    "### **Vectorize Text**"
   ]
  },
  {
   "cell_type": "code",
   "execution_count": 15,
   "metadata": {
    "colab": {
     "base_uri": "https://localhost:8080/"
    },
    "id": "FgwnkWv2LTRn",
    "outputId": "1728c7a0-49ff-4567-9e51-859226e4dd23"
   },
   "outputs": [
    {
     "data": {
      "text/plain": [
       "(12306, 44860, 54684)"
      ]
     },
     "execution_count": 15,
     "metadata": {},
     "output_type": "execute_result"
    }
   ],
   "source": [
    "len(post_alice), len(post_grimm), len(post_walden)"
   ]
  },
  {
   "cell_type": "code",
   "execution_count": 16,
   "metadata": {
    "colab": {
     "base_uri": "https://localhost:8080/"
    },
    "id": "6SbpXd5UJaYd",
    "outputId": "59be4689-db43-4557-ecab-e23a5a7c05b1"
   },
   "outputs": [],
   "source": [
    "vectorizer = CountVectorizer(analyzer='word', min_df=10,\n",
    "                             stop_words='english', lowercase=True, \n",
    "                             token_pattern='[a-zA-Z\\-][a-zA-Z\\-]{2,}')\n",
    "\n",
    "tfidf_vectorizer = TfidfVectorizer(analyzer='word', min_df=10,  \n",
    "                             stop_words='english', lowercase=True, \n",
    "                             token_pattern='[a-zA-Z\\-][a-zA-Z\\-]{2,}')\n",
    "\n",
    "vec_alice = vectorizer.fit_transform(post_alice)\n",
    "vec_tfidf_alice = tfidf_vectorizer.fit_transform(post_alice)\n",
    "\n",
    "vec_grimm = vectorizer.fit_transform(post_grimm)\n",
    "vec_tfidf_grimm = tfidf_vectorizer.fit_transform(post_grimm)\n",
    "\n",
    "vec_walden = vectorizer.fit_transform(post_walden)\n",
    "vec_tfidf_walden = tfidf_vectorizer.fit_transform(post_walden)"
   ]
  },
  {
   "cell_type": "code",
   "execution_count": 17,
   "metadata": {},
   "outputs": [],
   "source": [
    "vecs = {'vec_alice': vec_alice, 'vec_tfidf_alice':vec_tfidf_alice, 'vec_grimm':vec_grimm, \n",
    "        'vec_tfidf_grimm': vec_tfidf_grimm, 'vec_walden': vec_walden, 'vec_tfidf_walden':vec_tfidf_walden}"
   ]
  },
  {
   "cell_type": "markdown",
   "metadata": {},
   "source": [
    "#### Check Sparsity"
   ]
  },
  {
   "cell_type": "code",
   "execution_count": 18,
   "metadata": {},
   "outputs": [],
   "source": [
    "def check_sparsity(key,vec):\n",
    "    #materialize the sparse data\n",
    "    data_dense = vec.todense()\n",
    "    # compute sparsity as % of non-zero cells\n",
    "    print(key, \"sparsicity: \", ((data_dense > 0).sum()/data_dense.size)*100, \"%\")"
   ]
  },
  {
   "cell_type": "code",
   "execution_count": 19,
   "metadata": {},
   "outputs": [
    {
     "name": "stdout",
     "output_type": "stream",
     "text": [
      "vec_alice sparsicity:  0.22439548093464512 %\n",
      "vec_tfidf_alice sparsicity:  0.22439548093464512 %\n",
      "vec_grimm sparsicity:  0.0934931314461793 %\n",
      "vec_tfidf_grimm sparsicity:  0.0934931314461793 %\n",
      "vec_walden sparsicity:  0.05316807626200962 %\n",
      "vec_tfidf_walden sparsicity:  0.05316807626200962 %\n"
     ]
    }
   ],
   "source": [
    "for k,v in vecs.items():\n",
    "    check_sparsity(k,v)"
   ]
  },
  {
   "cell_type": "markdown",
   "metadata": {},
   "source": [
    "<!-- Choose least sparse ('Alice in Wonderland') vs most sparse ('Walden') to compare results.  We will start with Alice as it is ~20-25% size. -->"
   ]
  },
  {
   "cell_type": "markdown",
   "metadata": {},
   "source": [
    "We will choose 'Alice in Wonderland' as it is the least sparse and also ~20-25% the size of most sparse ('Walden')."
   ]
  },
  {
   "cell_type": "code",
   "execution_count": 20,
   "metadata": {},
   "outputs": [],
   "source": [
    "data_vectorized = vec_tfidf_alice.copy()"
   ]
  },
  {
   "cell_type": "markdown",
   "metadata": {},
   "source": [
    "<a name=\"4\"></a>\n",
    "### Build Models"
   ]
  },
  {
   "cell_type": "code",
   "execution_count": 21,
   "metadata": {
    "colab": {
     "base_uri": "https://localhost:8080/"
    },
    "id": "bO8yQ9C8LnhT",
    "outputId": "53c3bb95-5b3b-49b5-85a1-26887ff27ee2"
   },
   "outputs": [
    {
     "name": "stdout",
     "output_type": "stream",
     "text": [
      "(12306, 10)\n",
      "(12306, 10)\n",
      "(12306, 10)\n"
     ]
    }
   ],
   "source": [
    "# Non-Negative Matrix Factorization Model\n",
    "nmf_model = NMF(n_components=10)\n",
    "nmf_Z = nmf_model.fit_transform(data_vectorized)\n",
    "print(nmf_Z.shape)  # (NO_DOCUMENTS, NO_TOPICS)\n",
    " \n",
    "# Latent Semantic Indexing Model\n",
    "lsi_model = TruncatedSVD(n_components=10)\n",
    "lsi_Z = lsi_model.fit_transform(data_vectorized)\n",
    "print(lsi_Z.shape)  # (NO_DOCUMENTS, NO_TOPICS)\n",
    "\n",
    "# Latent Dirichlet Allocation Model\n",
    "lda_model = LatentDirichletAllocation(n_components=10, max_iter=10, learning_method='online') # no of components = no. of topics\n",
    "lda_Z = lda_model.fit_transform(data_vectorized)\n",
    "print(lda_Z.shape)  # (NO_DOCUMENTS, NO_TOPICS)"
   ]
  },
  {
   "cell_type": "code",
   "execution_count": 22,
   "metadata": {
    "id": "EvoJ_BtEL541"
   },
   "outputs": [],
   "source": [
    "# inspect the inferred topics\n",
    "def print_topics(model, vectorizer, top_n=10):\n",
    "    for idx, topic in enumerate(model.components_):\n",
    "        print(\"Topic %d:\" % (idx))\n",
    "        print([(vectorizer.get_feature_names()[i], topic[i])\n",
    "                        for i in topic.argsort()[:-top_n - 1:-1]])"
   ]
  },
  {
   "cell_type": "code",
   "execution_count": 23,
   "metadata": {
    "id": "Uyq725eVSzLt"
   },
   "outputs": [],
   "source": [
    "# check log-likelihood and perplexity of LDA model\n",
    "def print_performance(model, data_vectorized):   \n",
    "    # log likelihood: Higher the better\n",
    "    print(\"Log Likelihood: \", model.score(data_vectorized))\n",
    "    # perplexity: lower the better, perplexity = exp(-1. * log-likelihood per word)\n",
    "    print(\"Perplexity: \", model.perplexity(data_vectorized))\n",
    "    # model parameters\n",
    "    pprint(model.get_params())"
   ]
  },
  {
   "cell_type": "code",
   "execution_count": 24,
   "metadata": {
    "colab": {
     "base_uri": "https://localhost:8080/"
    },
    "id": "ncYzKbq5MCuG",
    "outputId": "b24339e9-43fc-4d90-ecb5-3ee3ff5dde6d",
    "scrolled": true
   },
   "outputs": [
    {
     "name": "stdout",
     "output_type": "stream",
     "text": [
      "NMF Model:\n",
      "Topic 0:\n",
      "[('commenc', 4.802616494093879), ('deliber', 0.0), ('bear', 0.0), ('berri', 0.0), ('beneath', 0.0), ('bend', 0.0), ('belong', 0.0), ('bell', 0.0), ('believ', 0.0), ('behold', 0.0)]\n",
      "Topic 1:\n",
      "[('accord', 4.469338245807474), ('deliber', 0.0), ('beast', 0.0), ('besid', 0.0), ('berri', 0.0), ('beneath', 0.0), ('bend', 0.0), ('belong', 0.0), ('bell', 0.0), ('believ', 0.0)]\n",
      "Topic 2:\n",
      "[('cow', 3.427438806199466), ('civil', 2.452125007609153e-20), ('creatur', 1.5476682240074683e-21), ('custom', 4.622127836842346e-26), ('board', 8.200703599143148e-27), ('blue', 1.8387333664617303e-28), ('deal', 1.67093304010306e-28), ('caus', 1.8546914468005856e-29), ('clean', 1.3501012257806272e-29), ('clear', 2.1652719464115938e-30)]\n",
      "Topic 3:\n",
      "[('burst', 3.37011611454764), ('care', 4.669361777040618e-19), ('aliv', 1.2795183384945585e-29), ('boat', 4.0154177571039855e-31), ('cellar', 1.142838605403968e-33), ('cri', 6.017174148850361e-35), ('attend', 4.225440133843332e-35), ('color', 3.1037432551102355e-36), ('berri', 1.5487199916027234e-37), ('construct', 1.5409943545150722e-38)]\n",
      "Topic 4:\n",
      "[('bring', 3.216193122785139), ('care', 4.899673491788024e-14), ('bright', 2.8377593048468555e-17), ('caus', 1.2031908210514626e-20), ('deal', 1.0174173684141633e-20), ('betray', 1.7884383908977566e-21), ('clear', 5.905707688218785e-23), ('aliv', 1.566002955996278e-24), ('danger', 9.345366674755706e-25), ('boat', 4.8106167274230916e-26)]\n",
      "Topic 5:\n",
      "[('cake', 3.208605403905351), ('civil', 2.442019469119579e-12), ('care', 2.465021738440308e-13), ('creatur', 1.7527520205625599e-13), ('board', 4.127653403902281e-19), ('custom', 2.024480022504867e-19), ('blue', 2.083572385373927e-20), ('clean', 4.086181131760049e-21), ('danger', 1.6303303521940722e-23), ('cellar', 9.22495169395587e-29)]\n",
      "Topic 6:\n",
      "[('burn', 3.3692291140827395), ('creatur', 1.4132470152472725e-10), ('care', 4.016245310252616e-12), ('blue', 7.748458119887517e-19), ('clean', 4.474262518103011e-19), ('cultiv', 7.12835029130709e-25), ('art', 1.0223094746861568e-28), ('death', 5.667072307910399e-30), ('daili', 9.849697679725761e-34), ('certainli', 4.9205512018786505e-34)]\n",
      "Topic 7:\n",
      "[('amus', 2.970222576104482), ('care', 1.438252727947414e-10), ('bright', 3.9771363439523633e-14), ('caus', 2.1084398163967534e-17), ('betray', 1.7498475460324124e-18), ('boat', 2.057186994051808e-22), ('aliv', 5.064114519239162e-23), ('cellar', 5.610622198041842e-25), ('cri', 2.1338995569071122e-26), ('attend', 8.703764752045772e-27)]\n",
      "Topic 8:\n",
      "[('advantag', 3.1301503836815483), ('civil', 2.8192985297664834e-09), ('creatur', 1.9782990453615697e-10), ('custom', 3.6846381204346555e-15), ('board', 6.389747180112236e-16), ('blue', 2.0010321152263814e-17), ('deal', 1.469943923163948e-17), ('clean', 7.575607535269284e-19), ('clear', 3.2020688352031066e-19), ('betray', 1.0678796119986405e-19)]\n",
      "Topic 9:\n",
      "[('cover', 2.9905336046606994), ('civil', 0.004028073041809544), ('creatur', 0.0007656684100027513), ('custom', 1.928436088315216e-09), ('board', 2.8669571397127863e-10), ('blue', 1.3776052871110064e-11), ('deal', 1.0897472087070072e-11), ('betray', 7.961266523310716e-13), ('clear', 2.5790825833105587e-13), ('aliv', 3.237152732744868e-15)]\n",
      "====================\n"
     ]
    }
   ],
   "source": [
    "print(\"NMF Model:\")\n",
    "print_topics(nmf_model, tfidf_vectorizer)\n",
    "print(\"=\" * 20)"
   ]
  },
  {
   "cell_type": "code",
   "execution_count": 25,
   "metadata": {
    "colab": {
     "base_uri": "https://localhost:8080/"
    },
    "id": "5lPVH-oQMC02",
    "outputId": "77ac077f-745d-4726-f8df-a5a5f5841e88",
    "scrolled": true
   },
   "outputs": [
    {
     "name": "stdout",
     "output_type": "stream",
     "text": [
      "LSI Model:\n",
      "Topic 0:\n",
      "[('commenc', 0.9999999999974932), ('caus', 9.132190885816087e-07), ('clear', 7.164715201356431e-07), ('deal', 5.04097293831358e-07), ('danger', 3.579064907926029e-07), ('cover', 2.3872127501697113e-07), ('art', 2.3658546926946302e-07), ('berri', 7.645407317979535e-08), ('boat', 7.273440008946646e-08), ('cri', 5.464417711411476e-08)]\n",
      "Topic 1:\n",
      "[('accord', 0.9999999998529792), ('custom', 9.084788210291837e-06), ('civil', 3.9928359902025675e-06), ('aliv', 3.815188586139706e-06), ('care', 3.413616478705748e-06), ('blue', 2.9238207062881833e-06), ('cove', 2.497422065220584e-06), ('clean', 1.9822924869765313e-06), ('betray', 1.6874471930060731e-06), ('advantag', 1.668044902985133e-06)]\n",
      "Topic 2:\n",
      "[('cow', 0.9999575608228036), ('clear', 0.004078647375475867), ('caus', 0.0031027258932351826), ('bright', 0.0021081829550984458), ('cover', 0.0019305435413368827), ('danger', 0.0011837908918862245), ('attend', 0.0008210500158325748), ('cultiv', 0.0008037781665256781), ('cri', 0.0005821163043826258), ('certainli', 0.0004271355174134556)]\n",
      "Topic 3:\n",
      "[('burst', 0.9999718239817142), ('bright', 0.003033282328110746), ('clear', 0.0021533317028483686), ('caus', 0.0017345134329553881), ('board', 0.0017321265652192482), ('cover', 0.00164851339661822), ('danger', 0.0015042791512774596), ('cellar', 0.0010551839588150542), ('cow', 0.0009262740539819061), ('burn', 0.0008316690194233359)]\n",
      "Topic 4:\n",
      "[('bring', 0.99983752433421), ('blue', 0.0039044105917893485), ('cultiv', 0.0036408839968791185), ('boat', 0.003123320130507753), ('clear', 0.0029120099616810934), ('care', 0.0027180245771853094), ('custom', 0.0026104300635191417), ('civil', 0.0019659362311427193), ('clean', 0.0017594363857134756), ('cri', 0.0017253839971917008)]\n",
      "Topic 5:\n",
      "[('cake', 0.9998646694351482), ('bring', 0.011397400746726405), ('clear', 0.0037009003512458324), ('deal', 0.0033962635307472526), ('boat', 0.0028731234796732334), ('attend', 0.0020192754450437285), ('art', 0.0018696669208699104), ('concord', 0.0013008101708571144), ('collect', 0.0009694243333064988), ('cultiv', 0.0008242271471841011)]\n",
      "Topic 6:\n",
      "[('amus', 0.8332486322208974), ('danger', 0.006740451822024809), ('advantag', 0.0052187049567178345), ('deal', 0.002127438271074554), ('buy', 0.0018954895793452885), ('death', 0.0015407905263329436), ('concord', 0.001339613294886156), ('caus', 0.0013285568858489513), ('cove', 0.0011803845958203636), ('cellar', 0.001010400051813052)]\n",
      "Topic 7:\n",
      "[('burn', 0.8323055994173162), ('amus', 0.5519229354971888), ('advantag', 0.029549195416549046), ('custom', 0.017864451641978613), ('deal', 0.010294992372920513), ('attend', 0.007557306476128227), ('civil', 0.007478541452700278), ('art', 0.005056766081549048), ('creatur', 0.0044663583993144775), ('cri', 0.0038909112043814514)]\n",
      "Topic 8:\n",
      "[('advantag', 0.9974542352785343), ('clear', 0.028144125789539676), ('cover', 0.021377508937817383), ('caus', 0.019686722908183473), ('bright', 0.009269051972038124), ('cultiv', 0.006707728310218231), ('deal', 0.004091608868582442), ('berri', 0.0026152348035295473), ('certainli', 0.0018854376391563375), ('brister', 0.001821248548569804)]\n",
      "Topic 9:\n",
      "[('cover', 0.9767379061225123), ('civil', 0.16916711074944063), ('care', 0.06708268086358787), ('custom', 0.059849003259035), ('creatur', 0.05428891870643468), ('deal', 0.02689244522597943), ('boat', 0.02280164859595321), ('aliv', 0.01799154804453163), ('cove', 0.017956496408263942), ('death', 0.008257192656001729)]\n",
      "====================\n"
     ]
    }
   ],
   "source": [
    "print(\"LSI Model:\")\n",
    "print_topics(lsi_model, tfidf_vectorizer)\n",
    "print(\"=\" * 20)"
   ]
  },
  {
   "cell_type": "code",
   "execution_count": 26,
   "metadata": {
    "colab": {
     "base_uri": "https://localhost:8080/"
    },
    "id": "nCI-eZENMCiG",
    "outputId": "07b9d8da-12f6-4be2-83b2-a2690c7b206e",
    "scrolled": true
   },
   "outputs": [
    {
     "name": "stdout",
     "output_type": "stream",
     "text": [
      "LDA Model:\n",
      "Topic 0:\n",
      "[('art', 44.34589969382979), ('bank', 36.913361983039934), ('birch', 36.52542653047315), ('concord', 36.097005890264576), ('daili', 32.86179963332501), ('cost', 29.000238415954094), ('circul', 28.272648232992143), ('cloud', 28.020214691756266), ('absolut', 27.01873324062051), ('deliber', 25.45378671480786)]\n",
      "Topic 1:\n",
      "[('cow', 128.51005850768775), ('care', 75.14476845719682), ('attend', 43.30094891291943), ('cove', 41.73404787555231), ('cellar', 33.71431693353539), ('best', 30.78737440084893), ('apart', 24.48102505873801), ('buri', 20.196921172430844), ('appetit', 18.241898118538224), ('calm', 15.369495897586923)]\n",
      "Topic 2:\n",
      "[('bring', 106.469822389357), ('cover', 75.08034011411172), ('blue', 63.16739346974223), ('deal', 51.11214945100638), ('certainli', 34.0171678405048), ('add', 33.37152110324514), ('companion', 22.71013520799123), ('actual', 21.126184351183095), ('constitut', 21.112249854691004), ('america', 19.777046254896348)]\n",
      "Topic 3:\n",
      "[('accord', 392.87403334730715), ('burn', 90.82949815460331), ('death', 42.58235447069077), ('construct', 37.231361684062435), ('degre', 31.379429976546668), ('awak', 30.110261837009354), ('collect', 29.968567990124125), ('anoth', 28.087636890783962), ('crack', 21.523904552966123), ('bubbl', 20.50955770391752)]\n",
      "Topic 4:\n",
      "[('custom', 73.99121635991504), ('creatur', 73.74095999628487), ('clean', 52.50449458796143), ('cultiv', 40.56072114243034), ('berri', 38.68359275059891), ('case', 36.95852421840606), ('blood', 32.658057336144964), ('ceas', 28.676894597036892), ('approach', 28.100230466525794), ('alreadi', 25.028142808014792)]\n",
      "Topic 5:\n",
      "[('board', 60.67849298250858), ('buy', 41.60519737381354), ('color', 39.27124755504582), ('coffe', 35.37125284368447), ('cattl', 31.029673150981324), ('cat', 30.836366987891015), ('brick', 28.297679559339812), ('arriv', 26.70063888228286), ('battl', 25.24997007035236), ('beneath', 24.625558705445183)]\n",
      "Topic 6:\n",
      "[('bright', 81.32450217816412), ('cri', 43.271586712880215), ('come', 27.542315041444567), ('admir', 24.415376849138205), ('answer', 23.703603566512125), ('consequ', 21.746566637568936), ('bar', 20.511979711622367), ('dark', 20.21390088653202), ('cheer', 18.988899019413967), ('bear', 18.826495122991076)]\n",
      "Topic 7:\n",
      "[('cake', 107.20928145951166), ('advantag', 98.86682703024594), ('amus', 93.95908554321586), ('civil', 87.47082345121994), ('danger', 54.72071632259282), ('aliv', 45.50940644323813), ('brister', 31.299833502673625), ('deepest', 24.766320711708676), ('accomplish', 15.834992471693688), ('commun', 15.745294672787049)]\n",
      "Topic 8:\n",
      "[('commenc', 552.3207036636517), ('caus', 68.01243973334658), ('clear', 51.800115058844966), ('boat', 47.639466856495844), ('conveni', 19.96669841930915), ('chip', 19.235497918337032), ('afterward', 17.7719185847293), ('begin', 15.09346557412854), ('bone', 14.618220336407473), ('chiefli', 13.27914027934017)]\n",
      "Topic 9:\n",
      "[('burst', 119.40565649684991), ('betray', 66.67591072315608), ('curiou', 43.42032373520113), ('appl', 42.73579456502473), ('brown', 31.926915255475144), ('coast', 27.540218028030033), ('allow', 24.952763391020934), ('better', 22.05961407866183), ('alway', 19.394680041054883), ('classic', 18.776873262324656)]\n",
      "====================\n"
     ]
    }
   ],
   "source": [
    "print(\"LDA Model:\")\n",
    "print_topics(lda_model, tfidf_vectorizer)\n",
    "print(\"=\" * 20)"
   ]
  },
  {
   "cell_type": "markdown",
   "metadata": {},
   "source": [
    "<a name=\"5\"></a>\n",
    "### LDA Performance Metrics"
   ]
  },
  {
   "cell_type": "code",
   "execution_count": 27,
   "metadata": {},
   "outputs": [
    {
     "name": "stdout",
     "output_type": "stream",
     "text": [
      "Log Likelihood:  -34952.01706683081\n",
      "Perplexity:  190.9465505315102\n",
      "{'batch_size': 128,\n",
      " 'doc_topic_prior': None,\n",
      " 'evaluate_every': -1,\n",
      " 'learning_decay': 0.7,\n",
      " 'learning_method': 'online',\n",
      " 'learning_offset': 10.0,\n",
      " 'max_doc_update_iter': 100,\n",
      " 'max_iter': 10,\n",
      " 'mean_change_tol': 0.001,\n",
      " 'n_components': 10,\n",
      " 'n_jobs': None,\n",
      " 'perp_tol': 0.1,\n",
      " 'random_state': None,\n",
      " 'topic_word_prior': None,\n",
      " 'total_samples': 1000000.0,\n",
      " 'verbose': 0}\n"
     ]
    }
   ],
   "source": [
    "import warnings\n",
    "with warnings.catch_warnings():\n",
    "    warnings.filterwarnings(\"ignore\",category=DeprecationWarning)\n",
    "    import imp\n",
    "\n",
    "print_performance(lda_model, data_vectorized)"
   ]
  },
  {
   "cell_type": "markdown",
   "metadata": {},
   "source": [
    "### Visualization"
   ]
  },
  {
   "cell_type": "code",
   "execution_count": 32,
   "metadata": {},
   "outputs": [
    {
     "data": {
      "text/html": [
       "\n",
       "<link rel=\"stylesheet\" type=\"text/css\" href=\"https://cdn.jsdelivr.net/gh/bmabey/pyLDAvis@3.3.1/pyLDAvis/js/ldavis.v1.0.0.css\">\n",
       "\n",
       "\n",
       "<div id=\"ldavis_el265101405591230409601172911855\"></div>\n",
       "<script type=\"text/javascript\">\n",
       "\n",
       "var ldavis_el265101405591230409601172911855_data = {\"mdsDat\": {\"x\": [32.42095184326172, 0.648955225944519, 71.01968383789062, 3.7859814167022705, -42.666500091552734, -3.6216893196105957, -3.632401704788208, -36.58440017700195, 44.391380310058594, 40.235809326171875], \"y\": [8.115229606628418, 71.70709991455078, 9.971006393432617, 33.18513488769531, -9.22206974029541, -43.52651596069336, -4.171707630157471, 35.804412841796875, 50.61538314819336, -31.591665267944336], \"topics\": [1, 2, 3, 4, 5, 6, 7, 8, 9, 10], \"cluster\": [1, 1, 1, 1, 1, 1, 1, 1, 1, 1], \"Freq\": [11.776859503108124, 10.770097671413177, 10.44703230625747, 9.868519909845679, 9.793388428431328, 9.770848985422454, 9.583020286000217, 9.45529676932639, 9.290007513867977, 9.244928626327189]}, \"tinfo\": {\"Term\": [\"say\", \"alic\", \"think\", \"littl\", \"know\", \"look\", \"begin\", \"come\", \"make\", \"like\", \"queen\", \"king\", \"turtl\", \"time\", \"thing\", \"gryphon\", \"head\", \"hatter\", \"quit\", \"mock\", \"way\", \"voic\", \"duchess\", \"tell\", \"turn\", \"day\", \"dormous\", \"long\", \"tone\", \"tri\", \"say\", \"mock\", \"rabbit\", \"hear\", \"sure\", \"pig\", \"bite\", \"game\", \"high\", \"ought\", \"realli\", \"rest\", \"size\", \"peopl\", \"surpris\", \"learn\", \"nearli\", \"break\", \"glass\", \"drink\", \"bottl\", \"fanci\", \"glove\", \"small\", \"foot\", \"dodo\", \"convers\", \"stop\", \"children\", \"direct\", \"arm\", \"trial\", \"puzzl\", \"sea\", \"right\", \"listen\", \"serpent\", \"king\", \"dormous\", \"soup\", \"let\", \"alic\", \"like\", \"white\", \"speak\", \"word\", \"end\", \"right\", \"cours\", \"till\", \"let\", \"appear\", \"queer\", \"fanci\", \"drink\", \"glass\", \"break\", \"bottl\", \"glove\", \"small\", \"foot\", \"dodo\", \"convers\", \"stop\", \"nearli\", \"children\", \"direct\", \"gener\", \"tear\", \"lie\", \"learn\", \"serpent\", \"room\", \"mock\", \"shout\", \"hedgehog\", \"pigeon\", \"court\", \"game\", \"realli\", \"high\", \"gryphon\", \"anxious\", \"rest\", \"queen\", \"join\", \"look\", \"begin\", \"come\", \"queen\", \"voic\", \"cat\", \"larg\", \"wonder\", \"air\", \"set\", \"feet\", \"saw\", \"everyth\", \"silenc\", \"watch\", \"far\", \"els\", \"room\", \"box\", \"believ\", \"dodo\", \"foot\", \"glass\", \"drink\", \"break\", \"bottl\", \"fanci\", \"glove\", \"small\", \"convers\", \"sing\", \"juri\", \"like\", \"court\", \"size\", \"mock\", \"twinkl\", \"pig\", \"know\", \"thing\", \"hatter\", \"way\", \"noth\", \"ask\", \"shall\", \"arm\", \"soup\", \"child\", \"walk\", \"old\", \"live\", \"sea\", \"idea\", \"near\", \"trial\", \"sound\", \"shout\", \"tail\", \"pigeon\", \"serpent\", \"consid\", \"manag\", \"tear\", \"glass\", \"drink\", \"break\", \"bottl\", \"fanci\", \"footman\", \"mean\", \"game\", \"mock\", \"pig\", \"king\", \"tone\", \"run\", \"away\", \"court\", \"soon\", \"face\", \"wait\", \"open\", \"finish\", \"hastili\", \"someth\", \"close\", \"low\", \"creatur\", \"hold\", \"mouth\", \"inde\", \"better\", \"babi\", \"anxious\", \"join\", \"answer\", \"sister\", \"draw\", \"book\", \"forget\", \"soldier\", \"sneez\", \"butter\", \"dormous\", \"eye\", \"hand\", \"sit\", \"use\", \"talk\", \"pleas\", \"remark\", \"add\", \"write\", \"poor\", \"sort\", \"felt\", \"curiou\", \"wish\", \"beauti\", \"anyth\", \"happen\", \"lobster\", \"eat\", \"read\", \"stand\", \"want\", \"certainli\", \"glad\", \"matter\", \"ear\", \"pool\", \"sight\", \"glass\", \"dinah\", \"turtl\", \"time\", \"quit\", \"tri\", \"great\", \"march\", \"hare\", \"moment\", \"dear\", \"chang\", \"hurri\", \"anoth\", \"tree\", \"execut\", \"wit\", \"notic\", \"alway\", \"explain\", \"reason\", \"sing\", \"fall\", \"gener\", \"stop\", \"glass\", \"drink\", \"break\", \"bottl\", \"fanci\", \"glove\", \"small\", \"soldier\", \"dormous\", \"look\", \"rabbit\", \"rest\", \"gryphon\", \"pig\", \"head\", \"long\", \"round\", \"repli\", \"minut\", \"mean\", \"juri\", \"door\", \"feel\", \"good\", \"garden\", \"repeat\", \"tea\", \"howev\", \"hous\", \"twinkl\", \"sigh\", \"footman\", \"lesson\", \"listen\", \"place\", \"heart\", \"croquet\", \"best\", \"mani\", \"offend\", \"jump\", \"lie\", \"children\", \"glass\", \"pigeon\", \"littl\", \"gryphon\", \"turn\", \"day\", \"leav\", \"rememb\", \"caterpillar\", \"half\", \"chapter\", \"question\", \"perhap\", \"tabl\", \"majesti\", \"interrupt\", \"suppos\", \"shake\", \"mind\", \"swim\", \"bird\", \"hedgehog\", \"everi\", \"small\", \"bottl\", \"glass\", \"drink\", \"break\", \"fanci\", \"glove\", \"foot\", \"dodo\", \"twinkl\", \"fan\", \"open\", \"word\", \"convers\", \"game\", \"court\", \"think\", \"make\", \"duchess\", \"tell\", \"mous\", \"grow\", \"cri\", \"life\", \"danc\", \"mad\", \"follow\", \"cook\", \"puzzl\", \"confus\", \"hardli\", \"deal\", \"suddenli\", \"help\", \"parti\", \"fan\", \"glass\", \"drink\", \"break\", \"bottl\", \"fanci\", \"glove\", \"small\", \"foot\", \"dodo\", \"convers\", \"hedgehog\", \"king\", \"footman\", \"rabbit\", \"far\", \"mock\", \"realli\", \"pig\", \"shout\", \"rest\"], \"Freq\": [459.0, 358.0, 139.0, 124.0, 105.0, 100.0, 92.0, 88.0, 81.0, 83.0, 82.0, 79.0, 75.0, 75.0, 74.0, 69.0, 61.0, 62.0, 53.0, 57.0, 50.0, 51.0, 47.0, 45.0, 45.0, 45.0, 44.0, 42.0, 42.0, 41.0, 458.22656209252557, 56.42574365185339, 42.97537369496561, 39.52353944505869, 16.565143244367594, 15.958511101957766, 14.744269227734726, 12.52212128608998, 12.12783950380795, 11.016887032089127, 10.980700860228373, 10.506617070190977, 10.167521149033508, 10.166568642718088, 9.778470836336249, 9.770209584940734, 9.62592660453282, 7.701946528197443, 6.548070468414001, 0.08296385991184016, 0.0829638598279311, 0.08296385995325582, 0.0829638597780677, 0.08296385979053107, 0.08296385993482651, 0.08296385999215461, 0.0829638598737626, 0.08296385999870422, 0.08296386008688347, 0.08296385998653662, 0.08296418788183955, 0.08296409271849355, 0.08296408468454594, 0.08296399410513526, 0.082963908711721, 0.08296388437680939, 0.08296386049641162, 0.08296386043489613, 0.08296386042612063, 0.08296386041256909, 0.08296386040967435, 357.27716053202397, 82.59977101754113, 38.72412377177234, 33.85796478298556, 28.536255108576302, 27.382081631474165, 27.253226143498296, 25.54271930087742, 19.573702636254286, 18.651262028675824, 11.196753218619541, 10.348788347315052, 7.907319649618585, 7.255632831141702, 0.09093937039515794, 0.0909393705669179, 0.09093936983257743, 0.09093936958965443, 0.09093936992776201, 0.0909393700641951, 0.090939370296548, 0.09093937013290171, 0.09093937008964131, 0.09093937055959425, 0.09093937008626994, 0.09093937040956224, 0.09093937039679598, 0.09093937011442349, 0.09093936992249647, 0.09093937103778221, 0.09094084092013709, 0.09093989949831151, 0.09093937084497382, 0.09093937076074585, 0.09093937075563979, 0.09093937075433658, 0.09093937074547051, 0.09093937074506515, 0.09093937070288859, 0.09093937069049879, 0.09093937068243033, 0.09093937062883485, 0.09093937061316772, 0.09093937060468132, 0.09093937059437553, 99.7333704838471, 91.9726515702259, 87.40713640865131, 81.37131340706064, 50.90493472063522, 42.33594733136569, 29.11723545114689, 23.039317169525482, 14.730787757259442, 14.647344759711512, 14.53197298490662, 13.165655513777802, 12.83408144301246, 12.708855868427356, 12.652323680861123, 12.643241298867775, 11.180051276062462, 10.861663717523056, 10.775614413995733, 10.514758282225701, 9.200042630250426, 8.548827224933744, 0.09302680971641958, 0.09302680920811914, 0.09302680942564394, 0.09302680891310908, 0.09302680922637067, 0.09302680863412631, 0.09302680869433891, 0.09302680907808161, 0.09302789190493577, 0.09302707000387657, 0.09302685719369892, 0.0930268100260421, 0.09302681001135106, 0.09302681000018467, 0.09302680988287586, 0.09302680986328903, 104.276439568679, 73.53361143098567, 61.86608317773416, 50.059189015665496, 33.31638080174533, 32.68403502085013, 22.242284137118567, 20.690964222300888, 20.677316790110538, 19.369619694714725, 18.53657917805699, 17.752584378108402, 16.86915057503266, 15.220308624392002, 14.282897606369144, 14.066186279401563, 12.965107566864363, 12.154726996870053, 11.945814064278697, 11.867804671520847, 10.452045668702509, 10.45204290897546, 10.379223766674079, 10.206638547053467, 9.727943784424609, 0.09793990494776068, 0.09793990502373025, 0.09793990523197879, 0.09793990473062228, 0.09793990522054784, 0.09794171598883328, 0.09794012420004429, 0.09793990599302922, 0.09793990586924987, 0.09793990578983204, 78.81190131540762, 41.93466827876015, 26.691367999877237, 23.661039653181273, 22.97125730952332, 21.07468497051806, 19.878241827714305, 19.589372442497943, 18.40221821865788, 18.244831951108672, 16.26997079105455, 15.87846754612597, 15.7723086772663, 15.417850028453923, 14.878673027341158, 14.604228918852076, 14.44380749454774, 14.12632990163926, 13.80249440339216, 13.618035328000826, 13.602666630242766, 13.316760844621669, 13.301275179271995, 12.805977396380857, 12.800548526091386, 12.448886192321845, 12.144767986522488, 11.678705156138275, 11.238036106314059, 10.894194961433978, 43.98760349221282, 36.61511755731513, 36.230316459899264, 35.80535727811505, 32.59629012583481, 28.765928697532285, 28.04421713696133, 27.793823152473877, 26.800433249878328, 25.24813083321226, 24.765744623180552, 20.98352766211377, 20.79039389772665, 20.245979502253547, 18.530397633175912, 18.357012284654257, 18.248904270164925, 17.508928640494982, 17.50091372482857, 17.108488188901422, 16.473667818596603, 14.985237039606934, 14.513287528787522, 13.9255997701886, 11.501032577892646, 11.477796278479662, 10.419678313401226, 10.03262342350804, 9.964855060798577, 0.09919204534883597, 0.09919217602267998, 74.85004287179737, 74.5968817471641, 53.113921681655654, 41.03151516869339, 39.13259868216069, 37.3875070355612, 33.03712402603992, 29.009751368016165, 28.42639381539229, 25.31864800098449, 22.719553691125952, 20.51180917690655, 16.129393808261867, 15.299345671966648, 14.284899354271062, 12.901123298629589, 12.654234758345204, 12.49483702094261, 11.897643300147344, 11.44735231690468, 10.168775690969703, 9.729429600046812, 9.554177616003988, 0.10116071741706381, 0.10116071737077707, 0.10116071832484014, 0.10116071701719485, 0.10116071778121133, 0.10116071728725085, 0.1011607172448817, 0.10116296593020248, 0.10116221747808248, 0.10116082242302271, 0.10116076398743978, 0.10116071845719933, 0.101160718397803, 0.10116071835610321, 60.87797620232681, 41.74197629374641, 39.400353512090895, 35.487537396240796, 31.13168456896182, 30.93774290334123, 28.39070942798716, 26.788418409321828, 25.332980459740245, 24.706516314952744, 22.86513883018268, 22.458509086561975, 21.316129050599475, 18.2453282384836, 15.971379188074906, 14.333697510496183, 12.92578578140153, 12.761317201638466, 11.894707503714056, 11.893941771547906, 11.817649934554348, 11.72057911942704, 11.660820369639959, 11.523139093893374, 11.276833692157906, 10.632279937691191, 10.46753920434783, 9.773613196618424, 9.646015778351064, 0.1003287578879429, 0.10032998612257261, 123.5405665357386, 68.98483729070523, 44.92393032949356, 44.21569653241157, 33.03251549480799, 28.49391090438291, 25.816855050248726, 22.823518590256516, 20.06630029386014, 19.42709942437733, 16.621622855863333, 16.294940698114875, 15.59503203073223, 14.750851652002826, 13.783661143567752, 13.467845255722919, 12.025321314403076, 11.692348615441627, 11.413042360826632, 11.34842592418616, 11.331484004722235, 8.180960484299073, 7.864316086576102, 0.10346291343140218, 0.10346291311127272, 0.10346291388595893, 0.10346291328606352, 0.10346291290243469, 0.10346291324872918, 0.10346291343328079, 0.10346467672480018, 0.10346304045856043, 0.10346298977915287, 0.10346297452741345, 0.10346296015389217, 0.10346291444515734, 0.10346291434997547, 138.40518663993922, 80.93083003857762, 46.63507265947255, 44.947522026927025, 36.3102809368411, 33.15796716292268, 26.366036104395423, 21.752061098433057, 19.6465034961602, 16.55292957585918, 15.520374075127274, 15.317507606460964, 15.264802555766646, 13.78583848773156, 12.239366404174616, 11.967283285329923, 11.747024701639175, 10.581223437576211, 10.448503847855028, 9.871999850470605, 0.10769989043291951, 0.10769988963135324, 0.1076998906312372, 0.10769988950473132, 0.10769988956096022, 0.10769988963466978, 0.10769988940560327, 0.10769988987588662, 0.1076998896497898, 0.10769988919641457, 0.10770555765651654, 0.1077023888296068, 0.10770188122627432, 0.10770004361098791, 0.10770001092598713, 0.10769989091611128, 0.10769989087091279, 0.10769989078709051, 0.1076998906790067, 0.1076998906786678], \"Total\": [459.0, 358.0, 139.0, 124.0, 105.0, 100.0, 92.0, 88.0, 81.0, 83.0, 82.0, 79.0, 75.0, 75.0, 74.0, 69.0, 61.0, 62.0, 53.0, 57.0, 50.0, 51.0, 47.0, 45.0, 45.0, 45.0, 44.0, 42.0, 42.0, 41.0, 459.11722290906454, 57.31640447282246, 43.866034710055324, 40.414200261309894, 17.455804058693197, 16.84917192003533, 15.63493004412471, 13.412782104804936, 13.018500319411206, 11.907547848490692, 11.871361679220163, 11.397277888867848, 11.058181965434235, 11.057229458502233, 10.66913165299762, 10.660870402212476, 10.516587421942297, 8.592607345009137, 7.4387312822670255, 8.138318132512962, 8.734477842328777, 8.790004952387507, 9.046489870775956, 9.051122240235344, 9.429425088122452, 10.080640493676071, 10.22721902643997, 10.426641570221253, 10.519311692257643, 10.580541049610883, 21.56664931711363, 13.840792570220495, 16.130727561548053, 16.095993527523426, 28.135911553934317, 12.767237709768208, 11.327731526883179, 79.68861808657114, 44.86203762001244, 21.55300261642042, 19.533947332859665, 358.15984592591536, 83.48245636824177, 39.60680907793928, 34.740650085680485, 29.418940473386517, 28.26476693851179, 28.135911553934317, 26.425404607235578, 20.45638793949903, 19.533947332859665, 12.079438523984855, 11.23147365206864, 8.790004952387507, 8.138318132512962, 7.4387312822670255, 8.592607345009137, 8.734477842328777, 9.046489870775956, 9.051122240235344, 9.429425088122452, 10.080640493676071, 10.22721902643997, 10.426641570221253, 10.516587421942297, 10.519311692257643, 10.580541049610883, 10.601893555357137, 10.603628550771786, 10.646909110309148, 10.660870402212476, 11.327731526883179, 11.742262110506093, 57.31640447282246, 12.821498835325452, 12.218593356392697, 11.327731666524784, 23.84797158362648, 13.412782104804936, 11.871361679220163, 13.018500319411206, 69.85499905465188, 14.47938089826603, 11.397277888867848, 82.25191127357998, 14.193475115047764, 100.61396845337023, 92.85324943438194, 88.28773427265003, 82.25191127357998, 51.785532586639036, 43.216545195081295, 29.997833315107513, 23.919915032760198, 15.611385621713554, 15.527942625232317, 15.412570847711434, 14.04625337689732, 13.714679307296326, 13.589453731513435, 13.532921547057608, 13.523839285064241, 12.06064914008054, 11.742262110506093, 11.65621228001155, 11.395356149836138, 10.080640493676071, 9.429425088122452, 7.4387312822670255, 8.138318132512962, 8.592607345009137, 8.734477842328777, 8.790004952387507, 9.046489870775956, 9.051122240235344, 10.22721902643997, 12.31981735627799, 29.26400560416722, 83.48245636824177, 23.84797158362648, 11.058181965434235, 57.31640447282246, 15.206995192647097, 16.84917192003533, 105.15212433488679, 74.40929619674053, 62.74176794672471, 50.934873781659114, 34.19206556731606, 33.559719788605165, 23.11796890298361, 21.56664931711363, 21.55300261642042, 20.245304464559595, 19.412263944661476, 18.628269144226085, 17.744835342113443, 16.095993527523426, 15.158582373702387, 14.941871045266975, 13.840792570220495, 13.030411764966091, 12.821498835325452, 12.743489439603911, 11.327731666524784, 11.327731526883179, 11.25490853442379, 11.08232331224122, 10.603628550771786, 7.4387312822670255, 8.138318132512962, 8.592607345009137, 8.734477842328777, 8.790004952387507, 13.634616918516453, 31.811039037487614, 13.412782104804936, 57.31640447282246, 16.84917192003533, 79.68861808657114, 42.81138254564531, 27.568082267497733, 24.53775392131095, 23.84797158362648, 21.951399236432938, 20.754956095889025, 20.466086710159107, 19.2789325628007, 19.12154621897425, 17.146685059150503, 16.75518181248917, 16.64902294523236, 16.294564296601997, 15.755387296765148, 15.480943186028044, 15.320521763135961, 15.00304416878836, 14.679208672281149, 14.494749597429308, 14.47938089826603, 14.193475115047764, 14.177989446879879, 13.682691668725983, 13.677262794423678, 13.325600460834394, 13.02148225404431, 12.555421675135532, 12.11475037678063, 11.77090923133905, 44.86203762001244, 37.489550182880585, 37.10474908773373, 36.67978990460239, 33.470722751849415, 29.64036132242376, 28.918649763779378, 28.668255780470467, 27.67486587817225, 26.12256346242253, 25.640177248473726, 21.857960288514988, 21.664826521903393, 21.120412130395028, 19.404830258439347, 19.231444915260667, 19.12333689603666, 18.38336126432695, 18.375346353987453, 17.98292094487519, 17.348100447660247, 15.859669667287946, 15.387720153874833, 14.80003239607793, 12.37546520442434, 12.352228906231554, 11.29411093958732, 10.907056049324396, 10.83928768835514, 7.4387312822670255, 10.98017669253046, 75.72250682872524, 75.46934570072723, 53.98638563470999, 41.90397912218252, 40.005062635644144, 38.25997098972565, 33.90958798127245, 29.88221532146424, 29.298857768271446, 26.19111195447964, 23.592017644738853, 21.384273129976336, 17.00185776241536, 16.171809628344175, 15.15736331287573, 13.773587251457837, 13.526698712157703, 13.367300977400353, 12.77010725591566, 12.31981735627799, 11.04123964277088, 10.601893555357137, 10.426641570221253, 7.4387312822670255, 8.138318132512962, 8.592607345009137, 8.734477842328777, 8.790004952387507, 9.046489870775956, 9.051122240235344, 12.555421675135532, 44.86203762001244, 100.61396845337023, 43.866034710055324, 11.397277888867848, 69.85499905465188, 16.84917192003533, 61.75127211654291, 42.615272206953456, 40.273649425153664, 36.36083330963673, 32.004980481835496, 31.811039037487614, 29.26400560416722, 27.66171432117742, 26.20627637585909, 25.57981222682095, 23.738434743507355, 23.331805001578374, 22.189424965623243, 19.118624150901876, 16.8446750998102, 15.206995192647097, 13.799081695685162, 13.634616918516453, 12.768003416230364, 12.767237709768208, 12.690945849406456, 12.59387503641812, 12.5341162844336, 12.396435007026806, 12.15012960404699, 11.505575851609057, 11.340835118022788, 10.646909110309148, 10.519311692257643, 7.4387312822670255, 11.327731666524784, 124.41072829229515, 69.85499905465188, 45.79409208726696, 45.08585829108576, 33.90267725379541, 29.364072663307162, 26.68701680630471, 23.69368034700822, 20.936462269007812, 20.297261181294505, 17.49178461416341, 17.165102454631576, 16.46519379126124, 15.62101341282582, 14.653822901115442, 14.33800701413112, 12.895483070998969, 12.562510372454545, 12.283204118065415, 12.218593356392697, 12.201645761177922, 9.051122240235344, 8.734477842328777, 7.4387312822670255, 8.138318132512962, 8.592607345009137, 8.790004952387507, 9.046489870775956, 9.429425088122452, 10.080640493676071, 15.206995192647097, 10.73792487637371, 19.2789325628007, 29.418940473386517, 10.22721902643997, 13.412782104804936, 23.84797158362648, 139.2711114634677, 81.79675486512113, 47.50099743980237, 45.813446807377645, 37.17620571569021, 34.02389194421774, 27.23196088427381, 22.617985882097287, 20.512428283410205, 17.418854358788085, 16.38629885768396, 16.183432390477392, 16.130727561548053, 14.651763269802446, 13.105291184632271, 12.83320806462088, 12.612949481051821, 11.447148217669117, 11.314428627753538, 10.73792487637371, 7.4387312822670255, 8.138318132512962, 8.592607345009137, 8.734477842328777, 8.790004952387507, 9.046489870775956, 9.051122240235344, 9.429425088122452, 10.080640493676071, 10.22721902643997, 12.218593356392697, 79.68861808657114, 13.634616918516453, 43.866034710055324, 13.523839285064241, 57.31640447282246, 11.871361679220163, 16.84917192003533, 12.821498835325452, 11.397277888867848], \"Category\": [\"Default\", \"Default\", \"Default\", \"Default\", \"Default\", \"Default\", \"Default\", \"Default\", \"Default\", \"Default\", \"Default\", \"Default\", \"Default\", \"Default\", \"Default\", \"Default\", \"Default\", \"Default\", \"Default\", \"Default\", \"Default\", \"Default\", \"Default\", \"Default\", \"Default\", \"Default\", \"Default\", \"Default\", \"Default\", \"Default\", \"Topic1\", \"Topic1\", \"Topic1\", \"Topic1\", \"Topic1\", \"Topic1\", \"Topic1\", \"Topic1\", \"Topic1\", \"Topic1\", \"Topic1\", \"Topic1\", \"Topic1\", \"Topic1\", \"Topic1\", \"Topic1\", \"Topic1\", \"Topic1\", \"Topic1\", \"Topic1\", \"Topic1\", \"Topic1\", \"Topic1\", \"Topic1\", \"Topic1\", \"Topic1\", \"Topic1\", \"Topic1\", \"Topic1\", \"Topic1\", \"Topic1\", \"Topic1\", \"Topic1\", \"Topic1\", \"Topic1\", \"Topic1\", \"Topic1\", \"Topic1\", \"Topic1\", \"Topic1\", \"Topic1\", \"Topic2\", \"Topic2\", \"Topic2\", \"Topic2\", \"Topic2\", \"Topic2\", \"Topic2\", \"Topic2\", \"Topic2\", \"Topic2\", \"Topic2\", \"Topic2\", \"Topic2\", \"Topic2\", \"Topic2\", \"Topic2\", \"Topic2\", \"Topic2\", \"Topic2\", \"Topic2\", \"Topic2\", \"Topic2\", \"Topic2\", \"Topic2\", \"Topic2\", \"Topic2\", \"Topic2\", \"Topic2\", \"Topic2\", \"Topic2\", \"Topic2\", \"Topic2\", \"Topic2\", \"Topic2\", \"Topic2\", \"Topic2\", \"Topic2\", \"Topic2\", \"Topic2\", \"Topic2\", \"Topic2\", \"Topic2\", \"Topic2\", \"Topic2\", \"Topic2\", \"Topic3\", \"Topic3\", \"Topic3\", \"Topic3\", \"Topic3\", \"Topic3\", \"Topic3\", \"Topic3\", \"Topic3\", \"Topic3\", \"Topic3\", \"Topic3\", \"Topic3\", \"Topic3\", \"Topic3\", \"Topic3\", \"Topic3\", \"Topic3\", \"Topic3\", \"Topic3\", \"Topic3\", \"Topic3\", \"Topic3\", \"Topic3\", \"Topic3\", \"Topic3\", \"Topic3\", \"Topic3\", \"Topic3\", \"Topic3\", \"Topic3\", \"Topic3\", \"Topic3\", \"Topic3\", \"Topic3\", \"Topic3\", \"Topic3\", \"Topic3\", \"Topic4\", \"Topic4\", \"Topic4\", \"Topic4\", \"Topic4\", \"Topic4\", \"Topic4\", \"Topic4\", \"Topic4\", \"Topic4\", \"Topic4\", \"Topic4\", \"Topic4\", \"Topic4\", \"Topic4\", \"Topic4\", \"Topic4\", \"Topic4\", \"Topic4\", \"Topic4\", \"Topic4\", \"Topic4\", \"Topic4\", \"Topic4\", \"Topic4\", \"Topic4\", \"Topic4\", \"Topic4\", \"Topic4\", \"Topic4\", \"Topic4\", \"Topic4\", \"Topic4\", \"Topic4\", \"Topic4\", \"Topic5\", \"Topic5\", \"Topic5\", \"Topic5\", \"Topic5\", \"Topic5\", \"Topic5\", \"Topic5\", \"Topic5\", \"Topic5\", \"Topic5\", \"Topic5\", \"Topic5\", \"Topic5\", \"Topic5\", \"Topic5\", \"Topic5\", \"Topic5\", \"Topic5\", \"Topic5\", \"Topic5\", \"Topic5\", \"Topic5\", \"Topic5\", \"Topic5\", \"Topic5\", \"Topic5\", \"Topic5\", \"Topic5\", \"Topic5\", \"Topic6\", \"Topic6\", \"Topic6\", \"Topic6\", \"Topic6\", \"Topic6\", \"Topic6\", \"Topic6\", \"Topic6\", \"Topic6\", \"Topic6\", \"Topic6\", \"Topic6\", \"Topic6\", \"Topic6\", \"Topic6\", \"Topic6\", \"Topic6\", \"Topic6\", \"Topic6\", \"Topic6\", \"Topic6\", \"Topic6\", \"Topic6\", \"Topic6\", \"Topic6\", \"Topic6\", \"Topic6\", \"Topic6\", \"Topic6\", \"Topic6\", \"Topic7\", \"Topic7\", \"Topic7\", \"Topic7\", \"Topic7\", \"Topic7\", \"Topic7\", \"Topic7\", \"Topic7\", \"Topic7\", \"Topic7\", \"Topic7\", \"Topic7\", \"Topic7\", \"Topic7\", \"Topic7\", \"Topic7\", \"Topic7\", \"Topic7\", \"Topic7\", \"Topic7\", \"Topic7\", \"Topic7\", \"Topic7\", \"Topic7\", \"Topic7\", \"Topic7\", \"Topic7\", \"Topic7\", \"Topic7\", \"Topic7\", \"Topic7\", \"Topic7\", \"Topic7\", \"Topic7\", \"Topic7\", \"Topic7\", \"Topic8\", \"Topic8\", \"Topic8\", \"Topic8\", \"Topic8\", \"Topic8\", \"Topic8\", \"Topic8\", \"Topic8\", \"Topic8\", \"Topic8\", \"Topic8\", \"Topic8\", \"Topic8\", \"Topic8\", \"Topic8\", \"Topic8\", \"Topic8\", \"Topic8\", \"Topic8\", \"Topic8\", \"Topic8\", \"Topic8\", \"Topic8\", \"Topic8\", \"Topic8\", \"Topic8\", \"Topic8\", \"Topic8\", \"Topic8\", \"Topic8\", \"Topic9\", \"Topic9\", \"Topic9\", \"Topic9\", \"Topic9\", \"Topic9\", \"Topic9\", \"Topic9\", \"Topic9\", \"Topic9\", \"Topic9\", \"Topic9\", \"Topic9\", \"Topic9\", \"Topic9\", \"Topic9\", \"Topic9\", \"Topic9\", \"Topic9\", \"Topic9\", \"Topic9\", \"Topic9\", \"Topic9\", \"Topic9\", \"Topic9\", \"Topic9\", \"Topic9\", \"Topic9\", \"Topic9\", \"Topic9\", \"Topic9\", \"Topic9\", \"Topic9\", \"Topic9\", \"Topic9\", \"Topic9\", \"Topic9\", \"Topic10\", \"Topic10\", \"Topic10\", \"Topic10\", \"Topic10\", \"Topic10\", \"Topic10\", \"Topic10\", \"Topic10\", \"Topic10\", \"Topic10\", \"Topic10\", \"Topic10\", \"Topic10\", \"Topic10\", \"Topic10\", \"Topic10\", \"Topic10\", \"Topic10\", \"Topic10\", \"Topic10\", \"Topic10\", \"Topic10\", \"Topic10\", \"Topic10\", \"Topic10\", \"Topic10\", \"Topic10\", \"Topic10\", \"Topic10\", \"Topic10\", \"Topic10\", \"Topic10\", \"Topic10\", \"Topic10\", \"Topic10\", \"Topic10\", \"Topic10\", \"Topic10\", \"Topic10\"], \"logprob\": [30.0, 29.0, 28.0, 27.0, 26.0, 25.0, 24.0, 23.0, 22.0, 21.0, 20.0, 19.0, 18.0, 17.0, 16.0, 15.0, 14.0, 13.0, 12.0, 11.0, 10.0, 9.0, 8.0, 7.0, 6.0, 5.0, 4.0, 3.0, 2.0, 1.0, -0.5367, -2.6312, -2.9035, -2.9872, -3.8568, -3.8941, -3.9732, -4.1366, -4.1686, -4.2647, -4.268, -4.3121, -4.3449, -4.345, -4.3839, -4.3848, -4.3996, -4.6226, -4.7849, -9.1534, -9.1534, -9.1534, -9.1534, -9.1534, -9.1534, -9.1534, -9.1534, -9.1534, -9.1534, -9.1534, -9.1534, -9.1534, -9.1534, -9.1534, -9.1534, -9.1534, -9.1534, -9.1534, -9.1534, -9.1534, -9.1534, -0.6962, -2.1607, -2.9183, -3.0526, -3.2236, -3.2648, -3.2696, -3.3344, -3.6005, -3.6488, -4.1591, -4.2379, -4.5069, -4.5929, -8.9723, -8.9723, -8.9723, -8.9723, -8.9723, -8.9723, -8.9723, -8.9723, -8.9723, -8.9723, -8.9723, -8.9723, -8.9723, -8.9723, -8.9723, -8.9723, -8.9723, -8.9723, -8.9723, -8.9723, -8.9723, -8.9723, -8.9723, -8.9723, -8.9723, -8.9723, -8.9723, -8.9723, -8.9723, -8.9723, -8.9723, -1.9418, -2.0228, -2.0737, -2.1452, -2.6143, -2.7986, -3.1729, -3.4071, -3.8543, -3.86, -3.8679, -3.9667, -3.9922, -4.002, -4.0064, -4.0071, -4.1301, -4.159, -4.167, -4.1915, -4.3251, -4.3985, -8.9191, -8.9191, -8.9191, -8.9191, -8.9191, -8.9191, -8.9191, -8.9191, -8.9191, -8.9191, -8.9191, -8.9191, -8.9191, -8.9191, -8.9191, -8.9191, -1.8403, -2.1896, -2.3623, -2.5741, -2.9813, -3.0004, -3.3853, -3.4576, -3.4583, -3.5236, -3.5676, -3.6108, -3.6618, -3.7647, -3.8282, -3.8435, -3.925, -3.9896, -4.0069, -4.0135, -4.1405, -4.1405, -4.1475, -4.1643, -4.2123, -8.8107, -8.8107, -8.8107, -8.8107, -8.8107, -8.8107, -8.8107, -8.8107, -8.8107, -8.8107, -2.1126, -2.7435, -3.1953, -3.3158, -3.3454, -3.4316, -3.49, -3.5047, -3.5672, -3.5758, -3.6903, -3.7147, -3.7214, -3.7441, -3.7797, -3.7983, -3.8094, -3.8316, -3.8548, -3.8683, -3.8694, -3.8906, -3.8918, -3.9297, -3.9302, -3.958, -3.9828, -4.0219, -4.0604, -4.0914, -2.6934, -2.8769, -2.8875, -2.8993, -2.9932, -3.1182, -3.1436, -3.1525, -3.1889, -3.2486, -3.2679, -3.4336, -3.4429, -3.4694, -3.5579, -3.5673, -3.5733, -3.6146, -3.6151, -3.6378, -3.6756, -3.7703, -3.8023, -3.8436, -4.0349, -4.0369, -4.1337, -4.1715, -4.1783, -8.7881, -8.7881, -2.1425, -2.1458, -2.4855, -2.7436, -2.791, -2.8366, -2.9603, -3.0903, -3.1106, -3.2264, -3.3347, -3.4369, -3.6773, -3.7301, -3.7987, -3.9006, -3.92, -3.9326, -3.9816, -4.0202, -4.1386, -4.1828, -4.201, -8.749, -8.749, -8.749, -8.749, -8.749, -8.749, -8.749, -8.749, -8.749, -8.749, -8.749, -8.749, -8.749, -8.749, -2.3357, -2.713, -2.7708, -2.8753, -3.0063, -3.0126, -3.0985, -3.1566, -3.2124, -3.2375, -3.3149, -3.3329, -3.3851, -3.5406, -3.6737, -3.7819, -3.8853, -3.8981, -3.9684, -3.9685, -3.9749, -3.9832, -3.9883, -4.0002, -4.0218, -4.0806, -4.0962, -4.1648, -4.178, -8.7438, -8.7438, -1.6103, -2.193, -2.6219, -2.6378, -2.9294, -3.0772, -3.1759, -3.2991, -3.4279, -3.4602, -3.6162, -3.636, -3.6799, -3.7356, -3.8034, -3.8266, -3.9399, -3.968, -3.9921, -3.9978, -3.9993, -4.3251, -4.3646, -8.6954, -8.6954, -8.6954, -8.6954, -8.6954, -8.6954, -8.6954, -8.6954, -8.6954, -8.6954, -8.6954, -8.6954, -8.6954, -8.6954, -1.4918, -2.0284, -2.5797, -2.6165, -2.8299, -2.9207, -3.15, -3.3423, -3.4441, -3.6155, -3.6799, -3.693, -3.6965, -3.7984, -3.9174, -3.9399, -3.9584, -4.0629, -4.0756, -4.1323, -8.6504, -8.6504, -8.6504, -8.6504, -8.6504, -8.6504, -8.6504, -8.6504, -8.6504, -8.6504, -8.6504, -8.6504, -8.6504, -8.6504, -8.6504, -8.6504, -8.6504, -8.6504, -8.6504, -8.6504], \"loglift\": [30.0, 29.0, 28.0, 27.0, 26.0, 25.0, 24.0, 23.0, 22.0, 21.0, 20.0, 19.0, 18.0, 17.0, 16.0, 15.0, 14.0, 13.0, 12.0, 11.0, 10.0, 9.0, 8.0, 7.0, 6.0, 5.0, 4.0, 3.0, 2.0, 1.0, 2.1371, 2.1234, 2.1185, 2.1167, 2.0867, 2.0847, 2.0804, 2.0703, 2.0682, 2.0613, 2.061, 2.0577, 2.0551, 2.0551, 2.0519, 2.0518, 2.0505, 2.0296, 2.0115, -2.4469, -2.5176, -2.5239, -2.5527, -2.5532, -2.5942, -2.6609, -2.6754, -2.6947, -2.7035, -2.7093, -3.4215, -2.9779, -3.131, -3.1289, -3.6874, -2.8972, -2.7776, -4.7284, -4.1539, -3.4208, -3.3225, 2.2259, 2.2178, 2.2059, 2.2027, 2.1979, 2.1967, 2.1965, 2.1944, 2.1843, 2.1822, 2.1525, 2.1465, 2.1226, 2.1136, -2.1759, -2.3201, -2.3364, -2.3715, -2.3721, -2.413, -2.4798, -2.4942, -2.5135, -2.5221, -2.5224, -2.5282, -2.5302, -2.5304, -2.5344, -2.5357, -2.5964, -2.6324, -4.2178, -2.7203, -2.6721, -2.5964, -3.3409, -2.7654, -2.6433, -2.7355, -4.4156, -2.8419, -2.6025, -4.579, -2.8219, 2.2501, 2.2493, 2.2488, 2.2481, 2.2417, 2.2383, 2.2291, 2.2213, 2.2008, 2.2005, 2.2, 2.1941, 2.1925, 2.1919, 2.1916, 2.1915, 2.183, 2.1809, 2.1803, 2.1784, 2.1674, 2.1608, -2.1227, -2.2126, -2.2669, -2.2833, -2.2896, -2.3184, -2.3189, -2.4411, -2.6272, -3.4924, -4.5407, -3.2877, -2.5192, -4.1646, -2.8378, -2.9403, 2.3075, 2.304, 2.3018, 2.2985, 2.2899, 2.2894, 2.2772, 2.2744, 2.2743, 2.2716, 2.2697, 2.2677, 2.2652, 2.2599, 2.2563, 2.2554, 2.2505, 2.2463, 2.2451, 2.2446, 2.2354, 2.2354, 2.2348, 2.2335, 2.2296, -2.0143, -2.1042, -2.1585, -2.1749, -2.1812, -2.6202, -3.4674, -2.6038, -4.0562, -2.8319, 2.3124, 2.3028, 2.2911, 2.2871, 2.286, 2.2827, 2.2803, 2.2797, 2.2769, 2.2765, 2.271, 2.2697, 2.2694, 2.2682, 2.2662, 2.2652, 2.2645, 2.2632, 2.2619, 2.2611, 2.261, 2.2597, 2.2596, 2.2572, 2.2572, 2.2554, 2.2538, 2.2511, 2.2483, 2.2461, 2.3061, 2.3022, 2.3019, 2.3016, 2.2993, 2.2958, 2.2951, 2.2948, 2.2937, 2.2917, 2.2911, 2.2849, 2.2846, 2.2835, 2.2797, 2.2792, 2.279, 2.277, 2.277, 2.2759, 2.274, 2.2691, 2.2673, 2.2649, 2.2525, 2.2523, 2.2452, 2.2422, 2.2417, -1.9916, -2.381, 2.3336, 2.3335, 2.3289, 2.3241, 2.3231, 2.3221, 2.3191, 2.3155, 2.3149, 2.3113, 2.3075, 2.3035, 2.2925, 2.2897, 2.2859, 2.2797, 2.2785, 2.2777, 2.2744, 2.2717, 2.2629, 2.2593, 2.2578, -1.9526, -2.0425, -2.0968, -2.1131, -2.1195, -2.1482, -2.1488, -2.476, -3.7494, -4.5572, -3.727, -2.3792, -4.1923, -2.7702, 2.3444, 2.3379, 2.3367, 2.3343, 2.3309, 2.3308, 2.3283, 2.3265, 2.3247, 2.3239, 2.3211, 2.3204, 2.3184, 2.3118, 2.3054, 2.2995, 2.2932, 2.2924, 2.2877, 2.2877, 2.2873, 2.2867, 2.2864, 2.2855, 2.284, 2.2797, 2.2785, 2.273, 2.2719, -1.9474, -2.3679, 2.3692, 2.3637, 2.357, 2.3567, 2.3502, 2.3461, 2.3431, 2.3388, 2.3338, 2.3324, 2.3252, 2.3242, 2.3219, 2.3189, 2.315, 2.3136, 2.3064, 2.3044, 2.3028, 2.3024, 2.3022, 2.2752, 2.2713, -1.899, -1.9889, -2.0432, -2.0659, -2.0947, -2.1361, -2.2029, -2.614, -2.2661, -2.8513, -3.2739, -2.2174, -2.4885, -3.064, 2.3749, 2.3705, 2.3627, 2.362, 2.3575, 2.3553, 2.3488, 2.3421, 2.338, 2.3301, 2.3268, 2.3261, 2.3259, 2.3202, 2.3127, 2.3112, 2.31, 2.3024, 2.3015, 2.297, -1.854, -1.9439, -1.9982, -2.0146, -2.0209, -2.0497, -2.0502, -2.0911, -2.1579, -2.1724, -2.3502, -4.2254, -2.4599, -3.6285, -2.4518, -3.8959, -2.3214, -2.6716, -2.3984, -2.2807]}, \"token.table\": {\"Topic\": [6, 3, 2, 7, 7, 5, 5, 6, 2, 4, 4, 5, 5, 6, 3, 3, 8, 5, 9, 1, 5, 9, 3, 1, 5, 3, 9, 6, 7, 9, 4, 8, 5, 3, 10, 4, 5, 10, 2, 5, 5, 10, 8, 6, 10, 9, 10, 7, 5, 5, 3, 8, 6, 5, 2, 10, 6, 6, 3, 2, 9, 3, 7, 7, 6, 5, 7, 10, 2, 3, 8, 3, 6, 5, 10, 3, 8, 5, 1, 8, 7, 6, 1, 5, 8, 7, 10, 9, 9, 6, 6, 10, 7, 5, 4, 8, 1, 8, 9, 10, 1, 5, 8, 8, 7, 4, 5, 9, 5, 8, 8, 5, 4, 3, 1, 9, 8, 2, 8, 10, 2, 8, 9, 4, 6, 8, 3, 5, 10, 9, 10, 4, 8, 7, 6, 8, 9, 8, 1, 7, 10, 5, 4, 1, 4, 7, 8, 4, 5, 1, 10, 1, 9, 1, 4, 8, 6, 6, 6, 10, 3, 2, 9, 7, 1, 6, 1, 7, 6, 9, 8, 8, 1, 2, 3, 8, 5, 3, 1, 4, 4, 3, 9, 4, 4, 8, 6, 3, 7, 5, 6, 1, 9, 5, 5, 5, 5, 6, 4, 4, 2, 6, 7, 10, 9, 1, 1, 9, 9, 4, 6, 8, 4, 10, 4, 10, 2, 7, 5, 7, 7, 4, 9, 7, 8, 6, 3, 5, 4, 6, 3, 4, 2, 6, 7, 3, 2, 6], \"Freq\": [0.9756144842347898, 0.9608371968684708, 0.9967616528231495, 0.9610622870098888, 0.9820301055995369, 0.9169142104884895, 0.9668921688272295, 0.9412583221148255, 0.9106383527809236, 0.9737256674051828, 0.9833216787228596, 0.9780846314199967, 0.9658669786529425, 0.9359671142398935, 0.9908107746408497, 0.965305502992829, 0.9680202407545322, 0.9537298850745474, 0.8955318086607261, 0.9593902855764102, 0.9005222717932674, 0.9159105036858217, 0.9437027857551252, 0.9310328842905474, 0.9345072486595538, 0.9718500127765938, 0.9742565153950663, 0.9459438753465201, 0.9545222838743997, 0.9552712269639722, 0.938489220216986, 0.9506325406594935, 0.9610173553506804, 0.9854143468143236, 0.9555163936380447, 0.8885012232142466, 0.8800046206825829, 0.9268738323290587, 0.983901680463992, 0.9644426117897306, 0.9520553013050818, 0.9547604783398005, 0.9573870010208114, 0.9469512184005818, 0.9750186435106447, 0.9759157675545359, 0.9350740625083527, 0.955668655121497, 0.9107321566876743, 0.945131251144077, 0.8928004133909949, 0.9760783329082818, 0.9807846975807472, 0.9504825779395126, 0.8601285776768387, 0.9894529069534324, 0.8854171925077082, 0.9453414187890703, 0.9120570437161845, 0.9552528792732234, 0.9015177309112506, 0.9478894627221717, 0.927539981283829, 0.8977130102993863, 0.9869416896043705, 0.9636252617253881, 0.9056954040977981, 0.9312786329882657, 0.9101246294323271, 0.9612654902189817, 0.9539699437433127, 0.9732315360112233, 0.9693130927574589, 0.9413464682128403, 0.9764254966274574, 0.9544590381588198, 0.9534554639628625, 0.9215540724077668, 0.9692247214947999, 0.9688928629252052, 0.9432277307620204, 0.9696605179504598, 0.9410206840899195, 0.884320892885033, 0.9773332102018715, 0.9748766138726491, 0.969906677757606, 0.987760374114629, 0.9707229802694706, 0.9702262078333541, 0.9791462911045073, 0.9156606923829075, 0.9731760827711974, 0.9331249710836345, 0.9881774458865336, 0.9878339005692865, 0.989751120679569, 0.9528441377494383, 0.9002672958458728, 0.9609380249852163, 0.9217651577046417, 0.9689332116106396, 0.9498550672657546, 0.94149034250202, 0.9749060189063196, 0.9235692134567719, 0.9331439568194402, 0.9602449984252668, 0.9159138191757947, 0.881769278534705, 0.9568068151276179, 0.9913586393752863, 0.989043261444557, 0.966736487111388, 0.9380097142841805, 0.9733744551488377, 0.9398493725922646, 0.972665671522444, 0.9392397264213742, 0.9726772363676096, 0.9942208652065333, 0.9399057394238697, 0.9966986103374448, 0.958025232257538, 0.9795733725636141, 0.9855621664466792, 0.9938977811649008, 0.9205523834183181, 0.975953966307964, 0.9717468377743518, 0.9902593340477267, 0.9023378688974255, 0.9053401369756663, 0.9670681666208266, 0.890527538268873, 0.9745044782557449, 0.9305583927280051, 0.9685992471576143, 0.9770326752885091, 0.9704769103637858, 0.9683613296987489, 0.913806997989234, 0.9369643170916453, 0.95087879734975, 0.9651361932209341, 0.9438354556924916, 0.9560581879490758, 0.9662733483523444, 0.9336616506834802, 0.9237838167825859, 0.8838272200039045, 0.9043856815606465, 0.9718848233607219, 0.949601563562564, 0.882789272767783, 0.9455560005057645, 0.9682333106392129, 0.9168376833104676, 0.9750322611942227, 0.9299022590745722, 0.9847795479254462, 0.8903551136549366, 0.9360868853335724, 0.9817289929097271, 0.9802572829803373, 0.9222911781190392, 0.9265996856329118, 0.9396945350197499, 0.976690044012873, 0.9535462032481726, 0.9429189039815703, 0.9625741990551117, 0.9651427391047573, 0.9596276967335192, 0.9367871281086484, 0.9683751176430964, 0.9793934789520164, 0.9255137046994928, 0.9975665846251953, 0.9319089234442518, 0.8827892836502894, 0.9660004781074841, 0.906681101996085, 0.9516406952671641, 0.9359280185665907, 0.9420916758587619, 0.9225698484544511, 0.9566241776042466, 0.8928703796403742, 0.9501054554721579, 0.9814669084427583, 0.9043077814470851, 0.8838682969540788, 0.9079840407675933, 0.9557624037243229, 0.9549284620757583, 0.9566588340822533, 0.960748382868744, 0.9209225476867521, 0.9743422006547194, 0.9786805922211061, 0.9457952350003168, 0.9590815923470745, 0.9514031605396784, 0.9553820934286251, 0.9738881086680049, 0.9372834008651848, 0.9552230918998527, 0.9321237692748404, 0.941657311121292, 0.978395630354907, 0.9463967647892657, 0.9430733971978064, 0.9822443657034194, 0.9944993943275806, 0.9908731146746027, 0.9776897103805019, 0.9937809756216992, 0.981047504252398, 0.9410736299282491, 0.9784273679703133, 0.939252570547909, 0.9826595080047944, 0.9904584930031508, 0.920628948891185, 0.9859362836189904, 0.9848310416557982, 0.9772263883780113, 0.9787627066149154, 0.9748032749492653, 0.9606203623360635, 0.9816457033806227, 0.9846791727971524, 0.9791376552617211, 0.9236434933315489, 0.961541877071875, 0.985759498246869, 0.9570270557850364], \"Term\": [\"add\", \"air\", \"alic\", \"alway\", \"anoth\", \"answer\", \"anxious\", \"anyth\", \"appear\", \"arm\", \"ask\", \"away\", \"babi\", \"beauti\", \"begin\", \"believ\", \"best\", \"better\", \"bird\", \"bite\", \"book\", \"bottl\", \"box\", \"break\", \"butter\", \"cat\", \"caterpillar\", \"certainli\", \"chang\", \"chapter\", \"child\", \"children\", \"close\", \"come\", \"confus\", \"consid\", \"convers\", \"cook\", \"cours\", \"court\", \"creatur\", \"cri\", \"croquet\", \"curiou\", \"danc\", \"day\", \"deal\", \"dear\", \"dinah\", \"direct\", \"dodo\", \"door\", \"dormous\", \"draw\", \"drink\", \"duchess\", \"ear\", \"eat\", \"els\", \"end\", \"everi\", \"everyth\", \"execut\", \"explain\", \"eye\", \"face\", \"fall\", \"fan\", \"fanci\", \"far\", \"feel\", \"feet\", \"felt\", \"finish\", \"follow\", \"foot\", \"footman\", \"forget\", \"game\", \"garden\", \"gener\", \"glad\", \"glass\", \"glove\", \"good\", \"great\", \"grow\", \"gryphon\", \"half\", \"hand\", \"happen\", \"hardli\", \"hare\", \"hastili\", \"hatter\", \"head\", \"hear\", \"heart\", \"hedgehog\", \"help\", \"high\", \"hold\", \"hous\", \"howev\", \"hurri\", \"idea\", \"inde\", \"interrupt\", \"join\", \"jump\", \"juri\", \"king\", \"know\", \"larg\", \"learn\", \"leav\", \"lesson\", \"let\", \"lie\", \"life\", \"like\", \"listen\", \"littl\", \"live\", \"lobster\", \"long\", \"look\", \"low\", \"mad\", \"majesti\", \"make\", \"manag\", \"mani\", \"march\", \"matter\", \"mean\", \"mind\", \"minut\", \"mock\", \"moment\", \"mous\", \"mouth\", \"near\", \"nearli\", \"noth\", \"notic\", \"offend\", \"old\", \"open\", \"ought\", \"parti\", \"peopl\", \"perhap\", \"pig\", \"pigeon\", \"place\", \"pleas\", \"pool\", \"poor\", \"puzzl\", \"queen\", \"queer\", \"question\", \"quit\", \"rabbit\", \"read\", \"realli\", \"reason\", \"remark\", \"rememb\", \"repeat\", \"repli\", \"rest\", \"right\", \"room\", \"round\", \"run\", \"saw\", \"say\", \"sea\", \"serpent\", \"set\", \"shake\", \"shall\", \"shout\", \"sigh\", \"sight\", \"silenc\", \"sing\", \"sister\", \"sit\", \"size\", \"small\", \"sneez\", \"soldier\", \"someth\", \"soon\", \"sort\", \"sound\", \"soup\", \"speak\", \"stand\", \"stop\", \"suddenli\", \"suppos\", \"sure\", \"surpris\", \"swim\", \"tabl\", \"tail\", \"talk\", \"tea\", \"tear\", \"tell\", \"thing\", \"think\", \"till\", \"time\", \"tone\", \"tree\", \"tri\", \"trial\", \"turn\", \"turtl\", \"twinkl\", \"use\", \"voic\", \"wait\", \"walk\", \"want\", \"watch\", \"way\", \"white\", \"wish\", \"wit\", \"wonder\", \"word\", \"write\"]}, \"R\": 30, \"lambda.step\": 0.01, \"plot.opts\": {\"xlab\": \"PC1\", \"ylab\": \"PC2\"}, \"topic.order\": [9, 4, 8, 3, 7, 1, 5, 6, 10, 2]};\n",
       "\n",
       "function LDAvis_load_lib(url, callback){\n",
       "  var s = document.createElement('script');\n",
       "  s.src = url;\n",
       "  s.async = true;\n",
       "  s.onreadystatechange = s.onload = callback;\n",
       "  s.onerror = function(){console.warn(\"failed to load library \" + url);};\n",
       "  document.getElementsByTagName(\"head\")[0].appendChild(s);\n",
       "}\n",
       "\n",
       "if(typeof(LDAvis) !== \"undefined\"){\n",
       "   // already loaded: just create the visualization\n",
       "   !function(LDAvis){\n",
       "       new LDAvis(\"#\" + \"ldavis_el265101405591230409601172911855\", ldavis_el265101405591230409601172911855_data);\n",
       "   }(LDAvis);\n",
       "}else if(typeof define === \"function\" && define.amd){\n",
       "   // require.js is available: use it to load d3/LDAvis\n",
       "   require.config({paths: {d3: \"https://d3js.org/d3.v5\"}});\n",
       "   require([\"d3\"], function(d3){\n",
       "      window.d3 = d3;\n",
       "      LDAvis_load_lib(\"https://cdn.jsdelivr.net/gh/bmabey/pyLDAvis@3.3.1/pyLDAvis/js/ldavis.v3.0.0.js\", function(){\n",
       "        new LDAvis(\"#\" + \"ldavis_el265101405591230409601172911855\", ldavis_el265101405591230409601172911855_data);\n",
       "      });\n",
       "    });\n",
       "}else{\n",
       "    // require.js not available: dynamically load d3 & LDAvis\n",
       "    LDAvis_load_lib(\"https://d3js.org/d3.v5.js\", function(){\n",
       "         LDAvis_load_lib(\"https://cdn.jsdelivr.net/gh/bmabey/pyLDAvis@3.3.1/pyLDAvis/js/ldavis.v3.0.0.js\", function(){\n",
       "                 new LDAvis(\"#\" + \"ldavis_el265101405591230409601172911855\", ldavis_el265101405591230409601172911855_data);\n",
       "            })\n",
       "         });\n",
       "}\n",
       "</script>"
      ],
      "text/plain": [
       "<IPython.core.display.HTML object>"
      ]
     },
     "metadata": {},
     "output_type": "display_data"
    }
   ],
   "source": [
    "from IPython.core.display import HTML\n",
    "data_vectorized = tfidf_vectorizer.fit_transform(post_alice)\n",
    "\n",
    "pyLDAvis.enable_notebook()\n",
    "panel = pyLDAvis.sklearn.prepare(lda_model, data_vectorized, tfidf_vectorizer, mds='tsne')\n",
    "pyLDAvis.save_html(panel, 'lda_result_10.html')\n",
    "display(HTML('lda_result_10.html'))\n"
   ]
  },
  {
   "cell_type": "markdown",
   "metadata": {},
   "source": [
    "[Interactive LDA Visualization - Alice in Wonderland (10 topics)](lda_result_10.html?raw=True)"
   ]
  },
  {
   "cell_type": "markdown",
   "metadata": {},
   "source": [
    "![](pyLDAvis_alice_10_stat.png?raw=True)"
   ]
  },
  {
   "cell_type": "markdown",
   "metadata": {},
   "source": [
    "### Tune Hyperparameters"
   ]
  },
  {
   "cell_type": "code",
   "execution_count": 34,
   "metadata": {},
   "outputs": [
    {
     "data": {
      "text/plain": [
       "GridSearchCV(estimator=LatentDirichletAllocation(),\n",
       "             param_grid={'learning_decay': [0.5, 0.9],\n",
       "                         'n_components': [5, 15, 30]})"
      ]
     },
     "execution_count": 34,
     "metadata": {},
     "output_type": "execute_result"
    }
   ],
   "source": [
    "import warnings\n",
    "with warnings.catch_warnings():\n",
    "    warnings.filterwarnings(\"ignore\",category=DeprecationWarning)\n",
    "    import imp\n",
    "    \n",
    "search_params = {'n_components': [5, 15, 30], 'learning_decay': [.5, .9]}\n",
    "model = GridSearchCV( LatentDirichletAllocation(), param_grid=search_params)\n",
    "model.fit(data_vectorized)"
   ]
  },
  {
   "cell_type": "markdown",
   "metadata": {},
   "source": [
    "### Best Model"
   ]
  },
  {
   "cell_type": "code",
   "execution_count": 35,
   "metadata": {},
   "outputs": [
    {
     "name": "stdout",
     "output_type": "stream",
     "text": [
      "Best Model's Params:  {'learning_decay': 0.5, 'n_components': 5}\n",
      "Best Log Likelihood Score:  -8127.429234058503\n",
      "Model Perplexity:  184.7837496392483\n"
     ]
    }
   ],
   "source": [
    "best_lda_model = model.best_estimator_\n",
    "print(\"Best Model's Params: \", model.best_params_)\n",
    "print(\"Best Log Likelihood Score: \", model.best_score_)\n",
    "print(\"Model Perplexity: \", best_lda_model.perplexity(data_vectorized))"
   ]
  },
  {
   "cell_type": "code",
   "execution_count": 37,
   "metadata": {
    "scrolled": true
   },
   "outputs": [
    {
     "data": {
      "text/html": [
       "\n",
       "<link rel=\"stylesheet\" type=\"text/css\" href=\"https://cdn.jsdelivr.net/gh/bmabey/pyLDAvis@3.3.1/pyLDAvis/js/ldavis.v1.0.0.css\">\n",
       "\n",
       "\n",
       "<div id=\"ldavis_el265101405612057159041978154506\"></div>\n",
       "<script type=\"text/javascript\">\n",
       "\n",
       "var ldavis_el265101405612057159041978154506_data = {\"mdsDat\": {\"x\": [150.22215270996094, 51.16336441040039, -73.1445541381836, -66.4101333618164, 54.41732406616211], \"y\": [-72.2695541381836, -159.968017578125, 21.523815155029297, -110.60643768310547, 12.44344425201416], \"topics\": [1, 2, 3, 4, 5], \"cluster\": [1, 1, 1, 1, 1], \"Freq\": [23.15548153002116, 20.863996283366358, 20.097677378873392, 18.625104379470653, 17.257740428268438]}, \"tinfo\": {\"Term\": [\"say\", \"alic\", \"think\", \"littl\", \"look\", \"make\", \"come\", \"begin\", \"queen\", \"know\", \"thing\", \"head\", \"like\", \"time\", \"king\", \"gryphon\", \"quit\", \"rabbit\", \"mock\", \"hear\", \"dormous\", \"voic\", \"mous\", \"turtl\", \"hatter\", \"way\", \"repli\", \"larg\", \"ask\", \"tri\", \"say\", \"know\", \"like\", \"turtl\", \"hatter\", \"way\", \"cat\", \"tone\", \"round\", \"long\", \"day\", \"door\", \"moment\", \"word\", \"chapter\", \"hurri\", \"felt\", \"eat\", \"wait\", \"open\", \"face\", \"end\", \"curiou\", \"court\", \"bite\", \"tree\", \"air\", \"set\", \"creatur\", \"puzzl\", \"alic\", \"littl\", \"tri\", \"duchess\", \"tell\", \"white\", \"eye\", \"sit\", \"march\", \"grow\", \"minut\", \"talk\", \"caterpillar\", \"good\", \"chang\", \"add\", \"sort\", \"till\", \"wish\", \"perhap\", \"high\", \"mad\", \"low\", \"danc\", \"babi\", \"everyth\", \"far\", \"realli\", \"mind\", \"room\", \"think\", \"look\", \"come\", \"begin\", \"thing\", \"time\", \"mock\", \"voic\", \"turn\", \"great\", \"speak\", \"hand\", \"use\", \"dear\", \"remark\", \"run\", \"wonder\", \"question\", \"howev\", \"rememb\", \"repeat\", \"soup\", \"close\", \"idea\", \"better\", \"suppos\", \"mouth\", \"twinkl\", \"follow\", \"alway\", \"queen\", \"king\", \"gryphon\", \"quit\", \"rabbit\", \"hear\", \"mous\", \"noth\", \"right\", \"hare\", \"leav\", \"mean\", \"half\", \"juri\", \"happen\", \"anyth\", \"walk\", \"feet\", \"old\", \"hous\", \"pig\", \"tabl\", \"someth\", \"feel\", \"hastili\", \"near\", \"want\", \"lobster\", \"stand\", \"certainli\", \"make\", \"head\", \"dormous\", \"repli\", \"larg\", \"ask\", \"pleas\", \"poor\", \"cri\", \"cours\", \"away\", \"soon\", \"shall\", \"garden\", \"sure\", \"let\", \"anoth\", \"write\", \"arm\", \"tea\", \"finish\", \"live\", \"hold\", \"beauti\", \"inde\", \"ought\", \"dinah\", \"anxious\", \"answer\", \"game\"], \"Freq\": [456.0, 371.0, 133.0, 120.0, 102.0, 87.0, 94.0, 93.0, 80.0, 92.0, 77.0, 68.0, 84.0, 74.0, 67.0, 57.0, 57.0, 56.0, 55.0, 50.0, 46.0, 49.0, 46.0, 54.0, 49.0, 49.0, 39.0, 38.0, 38.0, 42.0, 455.8253030290601, 91.81585994393295, 83.25093183113273, 53.273683311119896, 48.991219206946795, 48.99121920694555, 42.99576943671108, 36.143826790659396, 35.28733395452944, 30.14837690184864, 28.435391200205846, 27.57889834519599, 26.722405487031104, 26.722405487030912, 20.72695535819848, 19.870462458410636, 19.870462458405328, 19.013969550091133, 18.15747663197513, 17.300983702603773, 17.30098370258958, 17.3009837025757, 16.444490760169682, 15.58799780247381, 15.587997802471175, 13.87501182982415, 13.875011829798398, 13.018518807138747, 12.16202575324817, 12.162025753214179, 370.9605956235744, 120.06029388470797, 42.00242166294977, 39.214640464508136, 39.2146404645079, 35.49759884917598, 34.5683384415601, 33.63907803217408, 32.70981762086999, 29.922036373639727, 29.922036373638402, 28.992775952732348, 27.134255101568822, 25.27573423561626, 24.346473796019737, 22.487952900802785, 21.558692443788253, 19.700171506430554, 19.700171506427772, 15.983129499576783, 15.053868958173748, 15.053868958167893, 15.053868958163356, 14.124608394481523, 13.195347803695983, 13.195347803694661, 12.266087179501163, 12.266087179500486, 12.266087179481778, 12.266087179479442, 132.76989874269435, 102.02719815470492, 93.38081360340918, 92.42010420839485, 77.04875387281518, 74.16662568083918, 54.952437679159374, 49.18818124927134, 40.54179655773938, 37.65966830900334, 36.6989588900365, 34.777540047340636, 33.8168306233383, 30.934702338706845, 27.091864587944407, 27.091864587943903, 27.0918645879418, 20.366898349802142, 19.40618885815296, 19.406188858152042, 19.406188858150934, 17.484769840846457, 15.563350763886785, 14.602641195512863, 13.641931601441193, 13.641931601437356, 13.64193160143235, 12.681221975726832, 12.68122197569705, 12.681221975684567, 79.99431211853339, 66.5237463444916, 57.19797001199036, 57.197970011990144, 56.16177263973731, 49.94458839515472, 45.7997988855806, 35.437825038225846, 33.3654302498439, 32.329232852294375, 31.293035452202584, 29.220640643304897, 24.03965355241305, 23.003456118159626, 21.967258676746024, 20.93106122709431, 20.931061227093707, 19.89486376788642, 19.8948637678857, 19.89486376788496, 18.858666297520774, 18.858666297520415, 18.858666297517445, 17.822468814020098, 16.78627131487977, 15.750073796945191, 15.750073796942345, 15.750073796940395, 14.71387625616016, 14.713876256156935, 86.29002615460293, 68.17136248399893, 45.52303276558956, 38.728533786868546, 37.59611728524787, 37.59611728524778, 31.93403474545607, 30.801618229507913, 29.669201710174846, 29.669201710174306, 28.536785187049222, 28.536785187049215, 28.536785187047734, 27.404368659650885, 27.404368659650856, 25.139535589699122, 25.139535589697953, 24.007119045690697, 24.007119045688892, 22.87470249444404, 20.609869365382785, 19.477452784413018, 19.47745278441096, 18.345036189719316, 18.345036189715238, 16.08020294726445, 16.080202947261583, 16.080202947260727, 16.080202947260187, 16.08020294725764], \"Total\": [456.0, 371.0, 133.0, 120.0, 102.0, 87.0, 94.0, 93.0, 80.0, 92.0, 77.0, 68.0, 84.0, 74.0, 67.0, 57.0, 57.0, 56.0, 55.0, 50.0, 46.0, 49.0, 46.0, 54.0, 49.0, 49.0, 39.0, 38.0, 38.0, 42.0, 456.63722173282474, 92.62777910369269, 84.06285104981916, 54.08560288613834, 49.803138868692876, 49.80313886869314, 43.80768924911568, 36.955746836972814, 36.099254036522495, 30.960297240953672, 29.247311645890846, 28.390818849191565, 27.534326053119003, 27.534326053119045, 21.53887650478716, 20.682383716984553, 20.682383716985676, 19.825890930876426, 18.969398146715545, 18.112905364789963, 18.11290536479293, 18.112905364796458, 17.256412585460268, 16.399919809162842, 16.399919809163727, 14.686934267943437, 14.68693426794909, 13.83044150455813, 12.973948747371143, 12.973948747378763, 371.75791912869875, 120.85761764369917, 42.79974612448817, 40.01196500331193, 40.011965003312014, 36.294923510057686, 35.36566313710195, 34.43640276431392, 33.5071423917072, 30.719361275147204, 30.719361275147396, 29.790100903449332, 27.931580160937944, 26.073059419825785, 25.143799049896177, 23.28527831155327, 22.35601794327178, 20.497497208915817, 20.497497208916187, 16.78045575270807, 15.851195392412157, 15.851195392412716, 15.851195392413278, 14.92193503422555, 13.992674678601709, 13.99267467860217, 13.063414326138334, 13.063414326138139, 13.06341432614012, 13.06341432614055, 133.56091846240918, 102.81821797097655, 94.1718334583352, 93.21112406806408, 77.83977382453278, 74.95764565408366, 55.74345785398883, 49.979201515504315, 41.33281701023132, 38.45068884276467, 37.489979453752156, 35.56856067597728, 34.607851287229266, 31.725723121648617, 27.882885569533883, 27.882885569533986, 27.882885569534135, 21.15791986249253, 20.19721047729932, 20.197210477299265, 20.197210477299556, 18.27579170869954, 16.354372943235063, 15.393663562073904, 14.432954182263517, 14.43295418226327, 14.432954182264227, 13.472244804114506, 13.47224480411601, 13.472244804117619, 80.77020663168535, 67.2996409520436, 57.97386471111406, 57.97386471111407, 56.93766735092591, 50.72048318932123, 46.57569374768472, 36.21372014043753, 34.14132541817528, 33.105128056899765, 32.06893069551502, 29.996535972370907, 24.815549161560252, 23.779351798707093, 22.74315443554632, 21.706957072031365, 21.706957072031322, 20.670759708105717, 20.670759708105923, 20.670759708106004, 19.63456234370081, 19.634562343700733, 19.63456234370086, 18.598364978730977, 17.56216761308899, 16.52597024663991, 16.525970246639684, 16.525970246639645, 15.489772879208077, 15.489772879208111, 87.04665008846922, 68.92798651504725, 46.27965702788249, 39.4851581718338, 38.352741695016306, 38.352741695016284, 32.6906593059652, 31.558242826903452, 30.425826347311506, 30.42582634731145, 29.293409867125526, 29.293409867125543, 29.293409867125327, 28.16099338627027, 28.16099338627029, 25.896160422185847, 25.896160422185726, 24.763743938728833, 24.763743938728556, 23.631327454138056, 21.3664944807949, 20.234077991548332, 20.234077991547974, 19.101661500152023, 19.101661500151447, 16.836828509047127, 16.836828509046757, 16.836828509046626, 16.836828509046494, 16.836828509046203], \"Category\": [\"Default\", \"Default\", \"Default\", \"Default\", \"Default\", \"Default\", \"Default\", \"Default\", \"Default\", \"Default\", \"Default\", \"Default\", \"Default\", \"Default\", \"Default\", \"Default\", \"Default\", \"Default\", \"Default\", \"Default\", \"Default\", \"Default\", \"Default\", \"Default\", \"Default\", \"Default\", \"Default\", \"Default\", \"Default\", \"Default\", \"Topic1\", \"Topic1\", \"Topic1\", \"Topic1\", \"Topic1\", \"Topic1\", \"Topic1\", \"Topic1\", \"Topic1\", \"Topic1\", \"Topic1\", \"Topic1\", \"Topic1\", \"Topic1\", \"Topic1\", \"Topic1\", \"Topic1\", \"Topic1\", \"Topic1\", \"Topic1\", \"Topic1\", \"Topic1\", \"Topic1\", \"Topic1\", \"Topic1\", \"Topic1\", \"Topic1\", \"Topic1\", \"Topic1\", \"Topic1\", \"Topic2\", \"Topic2\", \"Topic2\", \"Topic2\", \"Topic2\", \"Topic2\", \"Topic2\", \"Topic2\", \"Topic2\", \"Topic2\", \"Topic2\", \"Topic2\", \"Topic2\", \"Topic2\", \"Topic2\", \"Topic2\", \"Topic2\", \"Topic2\", \"Topic2\", \"Topic2\", \"Topic2\", \"Topic2\", \"Topic2\", \"Topic2\", \"Topic2\", \"Topic2\", \"Topic2\", \"Topic2\", \"Topic2\", \"Topic2\", \"Topic3\", \"Topic3\", \"Topic3\", \"Topic3\", \"Topic3\", \"Topic3\", \"Topic3\", \"Topic3\", \"Topic3\", \"Topic3\", \"Topic3\", \"Topic3\", \"Topic3\", \"Topic3\", \"Topic3\", \"Topic3\", \"Topic3\", \"Topic3\", \"Topic3\", \"Topic3\", \"Topic3\", \"Topic3\", \"Topic3\", \"Topic3\", \"Topic3\", \"Topic3\", \"Topic3\", \"Topic3\", \"Topic3\", \"Topic3\", \"Topic4\", \"Topic4\", \"Topic4\", \"Topic4\", \"Topic4\", \"Topic4\", \"Topic4\", \"Topic4\", \"Topic4\", \"Topic4\", \"Topic4\", \"Topic4\", \"Topic4\", \"Topic4\", \"Topic4\", \"Topic4\", \"Topic4\", \"Topic4\", \"Topic4\", \"Topic4\", \"Topic4\", \"Topic4\", \"Topic4\", \"Topic4\", \"Topic4\", \"Topic4\", \"Topic4\", \"Topic4\", \"Topic4\", \"Topic4\", \"Topic5\", \"Topic5\", \"Topic5\", \"Topic5\", \"Topic5\", \"Topic5\", \"Topic5\", \"Topic5\", \"Topic5\", \"Topic5\", \"Topic5\", \"Topic5\", \"Topic5\", \"Topic5\", \"Topic5\", \"Topic5\", \"Topic5\", \"Topic5\", \"Topic5\", \"Topic5\", \"Topic5\", \"Topic5\", \"Topic5\", \"Topic5\", \"Topic5\", \"Topic5\", \"Topic5\", \"Topic5\", \"Topic5\", \"Topic5\"], \"logprob\": [30.0, 29.0, 28.0, 27.0, 26.0, 25.0, 24.0, 23.0, 22.0, 21.0, 20.0, 19.0, 18.0, 17.0, 16.0, 15.0, 14.0, 13.0, 12.0, 11.0, 10.0, 9.0, 8.0, 7.0, 6.0, 5.0, 4.0, 3.0, 2.0, 1.0, -1.2181, -2.8204, -2.9183, -3.3647, -3.4485, -3.4485, -3.5791, -3.7527, -3.7767, -3.9341, -3.9926, -4.0231, -4.0547, -4.0547, -4.3088, -4.351, -4.351, -4.395, -4.4411, -4.4894, -4.4894, -4.4894, -4.5402, -4.5937, -4.5937, -4.7101, -4.7101, -4.7738, -4.8419, -4.8419, -1.3199, -2.448, -3.4983, -3.5669, -3.5669, -3.6665, -3.693, -3.7203, -3.7483, -3.8374, -3.8374, -3.8689, -3.9352, -4.0061, -4.0436, -4.123, -4.1652, -4.2554, -4.2554, -4.4644, -4.5243, -4.5243, -4.5243, -4.5881, -4.6561, -4.6561, -4.7291, -4.7291, -4.7291, -4.7291, -2.3099, -2.5733, -2.6619, -2.6722, -2.8541, -2.8922, -3.1921, -3.3029, -3.4962, -3.57, -3.5958, -3.6496, -3.6776, -3.7667, -3.8993, -3.8993, -3.8993, -4.1846, -4.233, -4.233, -4.233, -4.3372, -4.4536, -4.5174, -4.5854, -4.5854, -4.5854, -4.6584, -4.6584, -4.6584, -2.7405, -2.9249, -3.0759, -3.0759, -3.0942, -3.2115, -3.2982, -3.5547, -3.6149, -3.6465, -3.6791, -3.7476, -3.9428, -3.9868, -4.0329, -4.0812, -4.0812, -4.132, -4.132, -4.132, -4.1855, -4.1855, -4.1855, -4.242, -4.3019, -4.3656, -4.3656, -4.3656, -4.4337, -4.4337, -2.5885, -2.8242, -3.228, -3.3896, -3.4193, -3.4193, -3.5825, -3.6186, -3.6561, -3.6561, -3.695, -3.695, -3.695, -3.7355, -3.7355, -3.8218, -3.8218, -3.8679, -3.8679, -3.9162, -4.0204, -4.077, -4.077, -4.1369, -4.1369, -4.2686, -4.2686, -4.2686, -4.2686, -4.2686], \"loglift\": [30.0, 29.0, 28.0, 27.0, 26.0, 25.0, 24.0, 23.0, 22.0, 21.0, 20.0, 19.0, 18.0, 17.0, 16.0, 15.0, 14.0, 13.0, 12.0, 11.0, 10.0, 9.0, 8.0, 7.0, 6.0, 5.0, 4.0, 3.0, 2.0, 1.0, 1.4612, 1.4541, 1.4532, 1.4478, 1.4465, 1.4465, 1.4442, 1.4407, 1.4402, 1.4364, 1.4348, 1.4339, 1.433, 1.433, 1.4245, 1.4229, 1.4229, 1.4211, 1.4192, 1.4171, 1.4171, 1.4171, 1.4147, 1.4122, 1.4122, 1.4061, 1.4061, 1.4024, 1.3983, 1.3983, 1.565, 1.5605, 1.5483, 1.547, 1.547, 1.5449, 1.5443, 1.5437, 1.5431, 1.5408, 1.5408, 1.54, 1.5382, 1.5361, 1.5349, 1.5323, 1.5308, 1.5275, 1.5275, 1.5185, 1.5155, 1.5155, 1.5155, 1.5122, 1.5085, 1.5085, 1.5042, 1.5042, 1.5042, 1.5042, 1.5986, 1.5968, 1.5961, 1.596, 1.5944, 1.594, 1.5903, 1.5886, 1.5852, 1.5838, 1.5832, 1.5821, 1.5814, 1.5793, 1.5758, 1.5758, 1.5758, 1.5665, 1.5646, 1.5646, 1.5646, 1.5603, 1.555, 1.5518, 1.5482, 1.5482, 1.5482, 1.5441, 1.5441, 1.5441, 1.671, 1.6691, 1.6672, 1.6672, 1.6669, 1.6652, 1.6639, 1.659, 1.6577, 1.6569, 1.6562, 1.6545, 1.6489, 1.6475, 1.6459, 1.6443, 1.6443, 1.6424, 1.6424, 1.6424, 1.6403, 1.6403, 1.6403, 1.638, 1.6355, 1.6326, 1.6326, 1.6326, 1.6293, 1.6293, 1.7482, 1.7459, 1.7404, 1.7376, 1.737, 1.737, 1.7335, 1.7326, 1.7317, 1.7317, 1.7307, 1.7307, 1.7307, 1.7297, 1.7297, 1.7273, 1.7273, 1.7259, 1.7259, 1.7244, 1.7209, 1.7188, 1.7188, 1.7165, 1.7165, 1.7109, 1.7109, 1.7109, 1.7109, 1.7109]}, \"token.table\": {\"Topic\": [2, 1, 2, 3, 5, 5, 5, 4, 5, 5, 5, 2, 5, 3, 3, 1, 1, 2, 4, 2, 1, 3, 3, 5, 1, 1, 5, 1, 2, 1, 3, 5, 1, 5, 2, 1, 1, 2, 2, 1, 2, 4, 4, 1, 5, 3, 5, 5, 2, 3, 2, 4, 4, 3, 4, 4, 4, 1, 5, 4, 2, 5, 4, 3, 1, 3, 5, 4, 4, 1, 5, 4, 5, 1, 2, 5, 4, 1, 3, 2, 2, 5, 2, 4, 2, 2, 3, 1, 4, 3, 4, 4, 4, 1, 5, 2, 4, 5, 5, 1, 4, 3, 4, 4, 2, 3, 3, 3, 5, 4, 2, 1, 3, 1, 1, 5, 2, 4, 5, 2, 3, 3, 4, 3, 5, 4, 2, 5, 2, 3, 3, 2, 3, 1, 1, 2, 3, 1, 3, 3, 3, 1, 4, 4, 1, 2, 2, 3, 1, 5], \"Freq\": [0.9448029654463883, 0.9532282057360215, 0.9979612562646275, 0.9649468361818008, 0.9653940813010268, 0.9502977351941987, 0.9502977351941913, 0.9674317745372863, 0.9691587854963191, 0.9908026993788003, 0.9899837585157745, 0.9290575460801818, 0.9423264044259576, 0.9870066574116229, 0.9700023864278895, 0.9756145265454125, 0.9815628428944815, 0.9666477816303157, 0.9683808869873404, 0.9545096965010583, 0.974981215725556, 0.9783316092604059, 0.9875564336458028, 0.9860044443016721, 0.9756145265454651, 0.9249304304852838, 0.9860044443016702, 0.927191553908552, 0.9382161206230316, 0.9573529471360459, 0.9771250880912654, 0.9502977351941838, 0.9862343227482255, 0.9939572363789557, 0.974708440257104, 0.9583428087163437, 0.9385573246046183, 0.9290575460801512, 0.9896605038711028, 0.938557324604801, 0.9185959887982296, 0.9678270117069288, 0.967550311765141, 0.9670065246674029, 0.9828472339660435, 0.964946836181916, 0.9502977351942151, 0.9587729960251933, 0.9588441309265825, 0.9882787836491653, 0.9765828049384221, 0.9832016596449648, 0.967135558586648, 0.984015077777345, 0.9673240386397408, 0.9666176172162719, 0.9679898503718862, 0.9838737299106715, 0.9865368689560565, 0.98579502512561, 0.9463008706069186, 0.9390099221687559, 0.9675503117651275, 0.9407239688547622, 0.9670065246674553, 0.9744269088065695, 0.942326404425986, 0.9672256920497947, 0.995547658979977, 0.9932225612039136, 0.9908026993787997, 0.9666677163119594, 0.9653940813010223, 0.9873564715383104, 0.9929039008014579, 0.9390099221687392, 0.9681731094277751, 0.9689829450447456, 0.9920420914977586, 0.9463008706068516, 0.9463008706068852, 0.9879759865841423, 0.9848646480867103, 0.9667782982245419, 0.918595988798104, 0.976582804938416, 0.9866628680277388, 0.9805941844340702, 0.9876396098187301, 0.9700023864278418, 0.9681731094277595, 0.9664845220062811, 0.9675503117651313, 0.9385573246049548, 0.9502977351941629, 0.953490193341017, 0.9676813604198113, 0.9788728853859742, 0.9823107126095263, 0.9249304304847406, 0.9904642235818769, 0.9452725093006321, 0.9832016596449646, 0.9835316865872507, 0.9185959887982432, 0.9683359325442785, 0.9407239688547646, 0.9407239688547511, 0.9877128978508213, 0.9665705591626595, 0.9185959887980736, 0.9695491204496814, 0.968335932544275, 0.9986045339659202, 0.9399555318400761, 0.9899837585157811, 0.9873272836509464, 0.9676813604198089, 0.9899837585157738, 0.9840750734690242, 0.9301922603937183, 0.9869303888427947, 0.9683808869873425, 0.9700023864279061, 0.9587729960251925, 0.9676813604198152, 0.9734777365806825, 0.973284300030826, 0.9747084402571019, 0.9892115073917633, 0.9958002799855928, 0.9757288802703473, 0.9872241764568883, 0.9741380727282009, 0.9532282057363884, 0.9813142320479655, 0.9919478749742866, 0.9799280616613674, 0.9649468361820237, 0.982436029264447, 0.9804078199368481, 0.9488967367747831, 0.9674317745372882, 0.9681731094277728, 0.9838737299106662, 0.9643221865532008, 0.9757288802703298, 0.9683359325442698, 0.9805941844340686, 0.9691587854963082], \"Term\": [\"add\", \"air\", \"alic\", \"alway\", \"anoth\", \"answer\", \"anxious\", \"anyth\", \"arm\", \"ask\", \"away\", \"babi\", \"beauti\", \"begin\", \"better\", \"bite\", \"cat\", \"caterpillar\", \"certainli\", \"chang\", \"chapter\", \"close\", \"come\", \"cours\", \"court\", \"creatur\", \"cri\", \"curiou\", \"danc\", \"day\", \"dear\", \"dinah\", \"door\", \"dormous\", \"duchess\", \"eat\", \"end\", \"everyth\", \"eye\", \"face\", \"far\", \"feel\", \"feet\", \"felt\", \"finish\", \"follow\", \"game\", \"garden\", \"good\", \"great\", \"grow\", \"gryphon\", \"half\", \"hand\", \"happen\", \"hare\", \"hastili\", \"hatter\", \"head\", \"hear\", \"high\", \"hold\", \"hous\", \"howev\", \"hurri\", \"idea\", \"inde\", \"juri\", \"king\", \"know\", \"larg\", \"leav\", \"let\", \"like\", \"littl\", \"live\", \"lobster\", \"long\", \"look\", \"low\", \"mad\", \"make\", \"march\", \"mean\", \"mind\", \"minut\", \"mock\", \"moment\", \"mous\", \"mouth\", \"near\", \"noth\", \"old\", \"open\", \"ought\", \"perhap\", \"pig\", \"pleas\", \"poor\", \"puzzl\", \"queen\", \"question\", \"quit\", \"rabbit\", \"realli\", \"remark\", \"rememb\", \"repeat\", \"repli\", \"right\", \"room\", \"round\", \"run\", \"say\", \"set\", \"shall\", \"sit\", \"someth\", \"soon\", \"sort\", \"soup\", \"speak\", \"stand\", \"suppos\", \"sure\", \"tabl\", \"talk\", \"tea\", \"tell\", \"thing\", \"think\", \"till\", \"time\", \"tone\", \"tree\", \"tri\", \"turn\", \"turtl\", \"twinkl\", \"use\", \"voic\", \"wait\", \"walk\", \"want\", \"way\", \"white\", \"wish\", \"wonder\", \"word\", \"write\"]}, \"R\": 30, \"lambda.step\": 0.01, \"plot.opts\": {\"xlab\": \"PC1\", \"ylab\": \"PC2\"}, \"topic.order\": [1, 5, 3, 4, 2]};\n",
       "\n",
       "function LDAvis_load_lib(url, callback){\n",
       "  var s = document.createElement('script');\n",
       "  s.src = url;\n",
       "  s.async = true;\n",
       "  s.onreadystatechange = s.onload = callback;\n",
       "  s.onerror = function(){console.warn(\"failed to load library \" + url);};\n",
       "  document.getElementsByTagName(\"head\")[0].appendChild(s);\n",
       "}\n",
       "\n",
       "if(typeof(LDAvis) !== \"undefined\"){\n",
       "   // already loaded: just create the visualization\n",
       "   !function(LDAvis){\n",
       "       new LDAvis(\"#\" + \"ldavis_el265101405612057159041978154506\", ldavis_el265101405612057159041978154506_data);\n",
       "   }(LDAvis);\n",
       "}else if(typeof define === \"function\" && define.amd){\n",
       "   // require.js is available: use it to load d3/LDAvis\n",
       "   require.config({paths: {d3: \"https://d3js.org/d3.v5\"}});\n",
       "   require([\"d3\"], function(d3){\n",
       "      window.d3 = d3;\n",
       "      LDAvis_load_lib(\"https://cdn.jsdelivr.net/gh/bmabey/pyLDAvis@3.3.1/pyLDAvis/js/ldavis.v3.0.0.js\", function(){\n",
       "        new LDAvis(\"#\" + \"ldavis_el265101405612057159041978154506\", ldavis_el265101405612057159041978154506_data);\n",
       "      });\n",
       "    });\n",
       "}else{\n",
       "    // require.js not available: dynamically load d3 & LDAvis\n",
       "    LDAvis_load_lib(\"https://d3js.org/d3.v5.js\", function(){\n",
       "         LDAvis_load_lib(\"https://cdn.jsdelivr.net/gh/bmabey/pyLDAvis@3.3.1/pyLDAvis/js/ldavis.v3.0.0.js\", function(){\n",
       "                 new LDAvis(\"#\" + \"ldavis_el265101405612057159041978154506\", ldavis_el265101405612057159041978154506_data);\n",
       "            })\n",
       "         });\n",
       "}\n",
       "</script>"
      ],
      "text/plain": [
       "<IPython.core.display.HTML object>"
      ]
     },
     "metadata": {},
     "output_type": "display_data"
    }
   ],
   "source": [
    "pyLDAvis.enable_notebook()\n",
    "panel = pyLDAvis.sklearn.prepare(best_lda_model, data_vectorized, tfidf_vectorizer, mds='tsne')\n",
    "pyLDAvis.save_html(panel, 'lda_result_5.html')\n",
    "display(HTML('lda_result_5.html'))"
   ]
  },
  {
   "cell_type": "markdown",
   "metadata": {},
   "source": [
    "[Interactive LDA Visualization - Alice in Wonderland (5 topics)](lda_result_5.html?raw=True)"
   ]
  },
  {
   "cell_type": "markdown",
   "metadata": {},
   "source": [
    "![](pyLDAvis_alice_5_stat.png?raw=True)"
   ]
  },
  {
   "cell_type": "markdown",
   "metadata": {},
   "source": [
    "We were able to improve the performance of our topic modeling by tuning the number of components and learning rate, increasing our log-likelihood from -34952 to -8127 and we were able to reduce our perplexity from 191 to 185.  However, to the reader, topics threads remain somewhat perplexing so to speak. As stated in reference below 'optimizing for perplexity may not yield human interpretable topics'.\n",
    "\n",
    "We downloaded three texts and did an analysis on 'Alice in Wonderland' based on it having less sparsity and content with respect to the others.  It would be interesting to look at how these factors effect the models as well comparison of various pre-processing and vectorization methods."
   ]
  },
  {
   "cell_type": "markdown",
   "metadata": {
    "id": "A5u1rl0RS1d-"
   },
   "source": [
    "References:\n",
    "\n",
    "LDA Performance and Hyperparameter Tuning<br>\n",
    "https://www.machinelearningplus.com/nlp/topic-modeling-python-sklearn-examples/\n",
    "\n",
    "\n",
    "Evaluate Topic Models: Latent Dirichlet Allocation (LDA)<br>\n",
    "https://towardsdatascience.com/evaluate-topic-model-in-python-latent-dirichlet-allocation-lda-7d57484bb5d0"
   ]
  },
  {
   "cell_type": "code",
   "execution_count": null,
   "metadata": {},
   "outputs": [],
   "source": []
  }
 ],
 "metadata": {
  "colab": {
   "collapsed_sections": [],
   "name": "02_nlp_topic_modelling.ipynb",
   "provenance": []
  },
  "kernelspec": {
   "display_name": "Python 3 (ipykernel)",
   "language": "python",
   "name": "python3"
  },
  "language_info": {
   "codemirror_mode": {
    "name": "ipython",
    "version": 3
   },
   "file_extension": ".py",
   "mimetype": "text/x-python",
   "name": "python",
   "nbconvert_exporter": "python",
   "pygments_lexer": "ipython3",
   "version": "3.8.5"
  }
 },
 "nbformat": 4,
 "nbformat_minor": 1
}
